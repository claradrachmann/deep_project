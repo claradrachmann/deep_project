{
 "cells": [
  {
   "cell_type": "code",
   "execution_count": 1,
   "metadata": {
    "colab": {
     "base_uri": "https://localhost:8080/"
    },
    "id": "el6WZUx3ctwE",
    "outputId": "f66a38ff-d81d-4b57-d8b2-a43989ee3151"
   },
   "outputs": [
    {
     "data": {
      "text/plain": [
       "\"from google.colab import drive\\ndrive.mount('/content/drive')\\n!ls drive/'My Drive/YYY_deep_project_YYY'\""
      ]
     },
     "execution_count": 1,
     "metadata": {},
     "output_type": "execute_result"
    }
   ],
   "source": [
    "import numpy as np\n",
    "\"\"\"from google.colab import drive\n",
    "drive.mount('/content/drive')\n",
    "!ls drive/'My Drive/YYY_deep_project_YYY'\"\"\"\n"
   ]
  },
  {
   "cell_type": "code",
   "execution_count": 2,
   "metadata": {
    "colab": {
     "base_uri": "https://localhost:8080/"
    },
    "id": "nUc-3FwsYA6X",
    "outputId": "0e1b95cc-1151-4102-ccea-a9e0edbe1f5d"
   },
   "outputs": [],
   "source": [
    "#%cd drive/'My Drive/YYY_deep_project_YYY'"
   ]
  },
  {
   "cell_type": "code",
   "execution_count": 3,
   "metadata": {
    "id": "OcYm_Z9sdVq4"
   },
   "outputs": [],
   "source": [
    "def get_sequence(infile):\n",
    "\n",
    "    while True:\n",
    "\n",
    "        header = infile.readline()\n",
    "        sequence = infile.readline()\n",
    "\n",
    "        pdb = header[1:5]\n",
    "\n",
    "        if not header or not sequence or set(sequence) == {'X'}:\n",
    "            return\n",
    "        \n",
    "        yield header.strip()[1:], sequence.strip(), pdb"
   ]
  },
  {
   "cell_type": "code",
   "execution_count": 4,
   "metadata": {
    "colab": {
     "base_uri": "https://localhost:8080/",
     "height": 285
    },
    "id": "mzJSiJbpXkTR",
    "outputId": "2af42cfb-ef10-4316-de19-6b89fa008527"
   },
   "outputs": [
    {
     "name": "stdout",
     "output_type": "stream",
     "text": [
      "5000\n"
     ]
    },
    {
     "data": {
      "image/png": "[encoded data removed]",
      "text/plain": [
       "<Figure size 432x288 with 1 Axes>"
      ]
     },
     "metadata": {
      "needs_background": "light"
     },
     "output_type": "display_data"
    }
   ],
   "source": [
    "sequences = []\n",
    "seq_to_pdb = {}\n",
    "count = 0\n",
    "with open('data/sra100k_done.fa') as infile:\n",
    "#with open('data/all_heavy.fasta') as infile:\n",
    "        for header, sequence, pdb in get_sequence(infile):\n",
    "            sequences.append(list(sequence))\n",
    "            seq_to_pdb[sequence] = pdb\n",
    "\n",
    "#sequences = list(filter(lambda x:len(x)<150, sequences))\n",
    "\n",
    "import random\n",
    "random.shuffle(sequences)\n",
    "\n",
    "sequences = sequences[:5000]\n",
    "\n",
    "import matplotlib.pyplot as plt\n",
    "lengths = [len(seq) for seq in sequences]\n",
    "\n",
    "print(len(sequences))\n",
    "\n",
    "plt.hist(lengths, bins=100)\n",
    "plt.show()\n"
   ]
  },
  {
   "cell_type": "code",
   "execution_count": 5,
   "metadata": {
    "id": "lVSriKBHdqU7"
   },
   "outputs": [
    {
     "name": "stdout",
     "output_type": "stream",
     "text": [
      "4000 500 500\n"
     ]
    },
    {
     "data": {
      "text/plain": [
       "(4000, 500, 500)"
      ]
     },
     "execution_count": 5,
     "metadata": {},
     "output_type": "execute_result"
    }
   ],
   "source": [
    "from torch.utils import data\n",
    "from random import shuffle\n",
    "\n",
    "\n",
    "class Dataset(data.Dataset):\n",
    "    def __init__(self, inputs, targets):\n",
    "        self.inputs = inputs\n",
    "        self.targets = targets\n",
    "\n",
    "    def __len__(self):\n",
    "        # Return the size of the dataset\n",
    "        return len(self.targets)\n",
    "\n",
    "    def __getitem__(self, index):\n",
    "        # Retrieve inputs and targets at the given index\n",
    "        X = self.inputs[index]\n",
    "        y = self.targets[index]\n",
    "\n",
    "        return X, y\n",
    "\n",
    "def create_datasets(sequences, dataset_class, p_train=0.8, p_val=0.1, p_test=0.1):\n",
    "    \n",
    "    \n",
    "    # Define partition sizes\n",
    "    num_train = int(len(sequences)*p_train)\n",
    "    num_val = int(len(sequences)*p_val)\n",
    "    num_test = int(len(sequences)*p_test)\n",
    "    \n",
    "    print(num_train, num_val, num_test)\n",
    "\n",
    "    # Split sequences into partitions\n",
    "    sequences_train = sequences[:num_train]\n",
    "\n",
    "    # add reversed sequences for training and shuffle\n",
    "    #sequences_train += [seq[::-1] for seq in sequences_train]\n",
    "    #shuffle(sequences_train)\n",
    "\n",
    "    sequences_val = sequences[num_train:num_train+num_val]\n",
    "    sequences_test = sequences[num_train+num_val:]\n",
    "\n",
    "    input_train = [['<sos>'] + list(seq)+['<eos>'] for seq in sequences_train]\n",
    "    input_val = [['<sos>'] + list(seq)+['<eos>'] for seq in sequences_val]\n",
    "    input_test = [['<sos>'] + list(seq)+['<eos>'] for seq in sequences_test]\n",
    "\n",
    "    return (input_train, input_val, input_test)\n",
    "\n",
    "(input_train, input_val, input_test) = create_datasets(sequences, Dataset)\n",
    "\n",
    "len(input_train), len(input_val), len(input_test)"
   ]
  },
  {
   "cell_type": "code",
   "execution_count": 6,
   "metadata": {
    "id": "YNWaI923d3YE"
   },
   "outputs": [],
   "source": [
    "import math\n",
    "import torch\n",
    "import torch.nn as nn\n",
    "import torch.nn.functional as F\n",
    "from torch.nn.utils.rnn import pack_padded_sequence, pad_packed_sequence\n",
    "\n",
    "\n",
    "class PositionalEncoding(nn.Module):\n",
    "\n",
    "    def __init__(self, d_model, dropout=0.1, max_len=5000):\n",
    "        super(PositionalEncoding, self).__init__()\n",
    "        self.dropout = nn.Dropout(p=dropout)\n",
    "\n",
    "        pe = torch.zeros(max_len, d_model)\n",
    "        position = torch.arange(0, max_len, dtype=torch.float).unsqueeze(1)\n",
    "        div_term = torch.exp(torch.arange(0, d_model, 2).float() * (-math.log(10000.0) / d_model))\n",
    "        pe[:, 0::2] = torch.sin(position * div_term)\n",
    "        pe[:, 1::2] = torch.cos(position * div_term)\n",
    "        pe = pe.unsqueeze(0).transpose(0, 1)\n",
    "        self.register_buffer('pe', pe)\n",
    "\n",
    "    def forward(self, x):\n",
    "        x = x + self.pe[:x.size(0), :]\n",
    "        return self.dropout(x)\n",
    "    \n",
    "\n",
    "class TransformerModel(nn.Module):\n",
    "\n",
    "    def __init__(self, ntoken, ninp, nhead, nhid, nlayers, dropout=0.5):\n",
    "        super(TransformerModel, self).__init__()\n",
    "        \n",
    "        from torch.nn import TransformerEncoder, TransformerEncoderLayer, TransformerDecoder, TransformerDecoderLayer\n",
    "        \n",
    "        self.model_type = 'Transformer'\n",
    "        \n",
    "        self.pos_encoder = PositionalEncoding(ninp, dropout)\n",
    "\n",
    "        encoder_layers = TransformerEncoderLayer(ninp, nhead, nhid, dropout)\n",
    "        \n",
    "        self.t_encoder = TransformerEncoder(encoder_layers, nlayers)\n",
    "        \n",
    "        self.embed = nn.Embedding(ntoken, ninp)\n",
    "        self.ninp = ninp\n",
    "        \n",
    "        decoder_layers = TransformerDecoderLayer(ninp, nhead, nhid, dropout)\n",
    "        \n",
    "        self.t_decoder = TransformerDecoder(decoder_layers, nlayers)\n",
    "\n",
    "        \n",
    "        self.ff = nn.Linear(ninp, ntoken)\n",
    "        \n",
    "        self._init_weights()\n",
    "\n",
    "    def generate_square_subsequent_mask(self, sz):\n",
    "        mask = (torch.triu(torch.ones(sz, sz)) == 1).transpose(0, 1)\n",
    "        mask = mask.float().masked_fill(mask == 0, float(-1e-10)).masked_fill(mask == 1, float(0.0))\n",
    "        \n",
    "        return mask\n",
    "\n",
    " \n",
    "    def _init_weights(self):\n",
    "        for p in self.parameters():\n",
    "            if p.dim() > 1:\n",
    "                nn.init.xavier_uniform_(p)\n",
    "       \n",
    "\n",
    "    def forward(self, src, src_mask, tgt, tgt_mask, src_pad_mask, tgt_pad_mask, mem_pad_mask=None):\n",
    "        \n",
    "\n",
    "        embeds = self.embed(src) * math.sqrt(self.ninp)\n",
    "        \n",
    "        positions = self.pos_encoder(embeds)\n",
    "    \n",
    "        \n",
    "        encoded = self.t_encoder(positions)\n",
    "        #encoded = self.t_encoder(positions, src_key_padding_mask=src_pad_mask)\n",
    "        \n",
    "        \n",
    "        if mem_pad_mask is None:\n",
    "            mem_pad_mask = tgt_pad_mask.clone()\n",
    "            \n",
    "        embeds = self.embed(tgt) * math.sqrt(self.ninp)\n",
    "        \n",
    "        positions = self.pos_encoder(embeds)\n",
    "        \n",
    "        #decoded = self.t_decoder(tgt=positions, memory=encoded, tgt_mask=tgt_mask,\n",
    "        #                         tgt_key_padding_mask=tgt_pad_mask,\n",
    "        #                         memory_key_padding_mask=mem_pad_mask)\n",
    "        \n",
    "        decoded = self.t_decoder(tgt=positions, memory=encoded, tgt_mask=tgt_mask)\n",
    "  \n",
    "        output = self.ff(decoded)\n",
    "\n",
    "        return output\n",
    "\n",
    "\n"
   ]
  },
  {
   "cell_type": "code",
   "execution_count": 7,
   "metadata": {
    "colab": {
     "base_uri": "https://localhost:8080/"
    },
    "id": "qBtnWGt-Al99",
    "outputId": "50cdbe94-9ab1-4a92-a5e6-5f50335a9208"
   },
   "outputs": [],
   "source": [
    "    \n",
    "vocab = ['<pad>', \"<sos>\", \"<eos>\"] + [\"A\",\"C\",\"D\",\"E\",\"F\",\"G\",\"H\",\"I\",\"K\",\"L\",\"M\",\"N\",\"P\",\"Q\",\"R\",\"S\",\"T\",\"V\",\"W\",\"X\",\"Y\"]\n",
    "char_nums = {token:vocab.index(token) for token in vocab}\n",
    "\n",
    "\n",
    "def batchify(data):\n",
    "    \n",
    "    # get the length of each seq in your batch\n",
    "    seq_lengths = torch.LongTensor([len(seq) for seq in data])\n",
    "\n",
    "    train_vectorized = [[char_nums[char] for char in seq] for seq in data]\n",
    "    sources = [seq[:-1] for seq in train_vectorized]\n",
    "    targets = [seq[1:] for seq in train_vectorized]\n",
    "    \n",
    "    # dump padding everywhere, and place seqs on the left.\n",
    "    # NOTE: you only need a tensor as big as your longest sequence\n",
    "    src_tensor = torch.zeros((len(train_vectorized), seq_lengths.max()-1)).long()\n",
    "    tgt_tensor = torch.zeros((len(train_vectorized), seq_lengths.max()-1)).long()\n",
    "\n",
    "    \n",
    "    for idx, (seq, seqlen) in enumerate(zip(sources, seq_lengths)):\n",
    "        src_tensor[idx, :(seqlen-1)] = torch.LongTensor(seq)\n",
    "    \n",
    "    for idx, (seq, seqlen) in enumerate(zip(targets, seq_lengths)):\n",
    "        tgt_tensor[idx, :(seqlen-1)] = torch.LongTensor(seq)\n",
    "        \n",
    "        \n",
    "    # SORT YOUR TENSORS BY LENGTH!\n",
    "    seq_lengths, perm_idx = seq_lengths.sort(0, descending=True)\n",
    "    \n",
    "    src_tensor = src_tensor[perm_idx]\n",
    "    tgt_tensor = tgt_tensor[perm_idx]\n",
    "\n",
    "    return src_tensor, tgt_tensor\n",
    "\n",
    "\n",
    "train_src, train_tgt = batchify(input_train)\n",
    "val_src, val_tgt = batchify(input_val)\n",
    "test_src, test_tgt = batchify(input_test)\n"
   ]
  },
  {
   "cell_type": "code",
   "execution_count": 8,
   "metadata": {
    "id": "UglAQA33frSw"
   },
   "outputs": [],
   "source": [
    "bptt = 100\n",
    "\n",
    "def get_batch(sources, targets, i):\n",
    "    n_seqs = min(bptt, len(sources) - 1 - i)\n",
    "    \n",
    "    max_len = max([len(seq) for seq in sources])\n",
    "    \n",
    "    src = torch.cat([sources[i] for i in range(n_seqs)]).view(n_seqs,max_len)\n",
    "        \n",
    "    target = torch.cat([targets[i] for i in range(n_seqs)]).view(n_seqs,max_len)#.reshape(-1)\n",
    "    \n",
    "    return src, target\n",
    "\n"
   ]
  },
  {
   "cell_type": "code",
   "execution_count": 9,
   "metadata": {
    "id": "tLXVBEIrfr-D"
   },
   "outputs": [],
   "source": [
    "ntokens = len(vocab) # the size of vocabulary\n",
    "emsize = 400 # embedding dimension\n",
    "nhid = 400 # the dimension of the feedforward network model in nn.TransformerEncoder\n",
    "nlayers = 4 # the number of nn.TransformerEncoderLayer in nn.TransformerEncoder\n",
    "nhead = 4 # the number of heads in the multiheadattention models\n",
    "dropout = 0.5 # the dropout value"
   ]
  },
  {
   "cell_type": "code",
   "execution_count": 10,
   "metadata": {},
   "outputs": [
    {
     "data": {
      "text/plain": [
       "(tensor([[ 1,  3, 18,  ..., 20, 16,  8],\n",
       "         [ 1,  3, 18,  ..., 20, 16,  8],\n",
       "         [ 1,  8,  6,  ..., 20, 16,  8],\n",
       "         ...,\n",
       "         [ 1,  8,  6,  ...,  0,  0,  0],\n",
       "         [ 1,  8,  6,  ...,  0,  0,  0],\n",
       "         [ 1,  3, 18,  ...,  0,  0,  0]]),\n",
       " tensor([[ 3, 18, 20,  ..., 16,  8,  2],\n",
       "         [ 3, 18, 20,  ..., 16,  8,  2],\n",
       "         [ 8,  6, 18,  ..., 16,  8,  2],\n",
       "         ...,\n",
       "         [ 8,  6, 18,  ...,  0,  0,  0],\n",
       "         [ 8,  6, 18,  ...,  0,  0,  0],\n",
       "         [ 3, 18, 20,  ...,  0,  0,  0]]))"
      ]
     },
     "execution_count": 10,
     "metadata": {},
     "output_type": "execute_result"
    }
   ],
   "source": [
    "train_src, train_tgt\n"
   ]
  },
  {
   "cell_type": "code",
   "execution_count": 11,
   "metadata": {
    "id": "Qc1m7dgifuPc"
   },
   "outputs": [],
   "source": [
    "device = 'cuda' if torch.cuda.is_available() else 'cpu'\n",
    "\n",
    "#  ntoken, ninp, nhead, nhid, nlayers, dropout=0.5):\n",
    "model = TransformerModel(ntokens, emsize, nhead, nhid, nlayers, dropout).to(device)\n",
    "\n",
    "criterion = nn.CrossEntropyLoss(ignore_index=0)\n",
    "#criterion = nn.CrossEntropyLoss()\n",
    "\n",
    "lr = 0.1 # learning rate\n",
    "optimizer = torch.optim.SGD(model.parameters(), lr=lr)\n",
    "#optimizer  = torch.optim.Adam(lr=lr, params=model.parameters())\n",
    "scheduler = torch.optim.lr_scheduler.StepLR(optimizer, 1.0, gamma=0.8)\n",
    "\n",
    "train_losses = []\n",
    "val_losses = []\n",
    "model.to(device)\n",
    "import sys\n",
    "import time\n",
    "def train():\n",
    "    \n",
    "    train_loss = 0\n",
    "    n_batches = 0\n",
    "    \n",
    "    model.train() # Turn on the train mode\n",
    "    total_loss = 0.\n",
    "    start_time = time.time()\n",
    "    ntokens = len(vocab)\n",
    "    src_mask = model.generate_square_subsequent_mask(bptt).to(device)\n",
    "    \n",
    "    for batch, i in enumerate(range(0, train_src.size(0) - 1, bptt)):\n",
    "        \n",
    "        data, targets = get_batch(train_src, train_tgt, i)\n",
    "    \n",
    "        data, targets = data.to(device), targets.to(device)\n",
    "        \n",
    "        targets = targets.view(data.shape)\n",
    "        \n",
    "        optimizer.zero_grad()\n",
    "        \n",
    "            \n",
    "        src_mask = model.generate_square_subsequent_mask(data.size(0)).to(device)\n",
    "        src_pad_mask = (data == 0).bool().view(data.size(1), data.size(0))\n",
    "        \n",
    "        tgt_mask = model.generate_square_subsequent_mask(targets.size(0)).to(device)\n",
    "        tgt_pad_mask = (targets == 0).bool().view(targets.size(1), targets.size(0))\n",
    "        \n",
    "        output = model(data, src_mask, targets, tgt_mask, src_pad_mask, tgt_pad_mask)\n",
    "     \n",
    "        output_trans = output.view(-1, ntokens)\n",
    "        #target_trans = targets.view(-1, targets.size(0) * targets.size(1)).squeeze(0)\n",
    "        target_trans = targets.view(-1)\n",
    "            \n",
    "        loss = criterion(output_trans, target_trans)\n",
    "        \n",
    "        n_batches += 1\n",
    "        train_loss += loss\n",
    "        \n",
    "        loss.backward()\n",
    "        torch.nn.utils.clip_grad_norm_(model.parameters(), 0.4)\n",
    "        \n",
    "        # Soft, hard accuracy\n",
    "        #o = list(output.view(-1, ntokens)[0])\n",
    "        #t = targets\n",
    "        #print(o,t)\n",
    "        #hard_acc = sum([i for i in range(len(targets)) if o[i] == t[i]])/len(targets)\n",
    "        \n",
    "        optimizer.step()\n",
    "        \n",
    "        total_loss += loss.item()\n",
    "        log_interval = 10\n",
    "        if batch % log_interval == 0 and batch > 0:\n",
    "            cur_loss = total_loss / log_interval\n",
    "            \n",
    "            elapsed = time.time() - start_time\n",
    "            print('| epoch {:3d} | {:5d}/{:5d} batches | '\n",
    "                  'lr {:02.2f} | ms/batch {:5.2f} | '\n",
    "                  'loss {:5.2f} | ppl {:8.2f}|'.format(\n",
    "                    epoch, batch, len(train_src) // bptt, scheduler.get_lr()[0],\n",
    "                    elapsed * 1000 / log_interval,\n",
    "                    cur_loss, math.exp(cur_loss)))\n",
    "            total_loss = 0\n",
    "            start_time = time.time()\n",
    "    \n",
    "    train_losses.append(train_loss/n_batches)\n",
    "\n",
    "def evaluate(eval_model, src, tgt):\n",
    "    eval_model.eval() # Turn on the evaluation mode\n",
    "    total_loss = 0.\n",
    "    \n",
    "    with torch.no_grad():\n",
    "        for i in range(0, src.size(0) - 1, bptt):\n",
    "            data, targets = get_batch(src, tgt, i)\n",
    "            data, targets = data.to(device), targets.to(device)\n",
    "            \n",
    "            targets = targets.view(data.shape)\n",
    "            \n",
    "            src_mask = model.generate_square_subsequent_mask(data.size(0)).to(device)\n",
    "            src_pad_mask = (data == 0).bool().view(data.size(1), data.size(0))\n",
    "        \n",
    "            tgt_mask = model.generate_square_subsequent_mask(targets.size(0)).to(device)\n",
    "            tgt_pad_mask = (targets == 0).bool().view(targets.size(1), targets.size(0))    \n",
    "            \n",
    "            output = eval_model(data, src_mask, targets, tgt_mask, src_pad_mask, tgt_pad_mask)\n",
    "            \n",
    "            output_trans = output.view(-1, ntokens)\n",
    "            #target_trans = targets.view(-1, targets.size(1) * targets.size(0)).squeeze(0)\n",
    "            target_trans = targets.view(-1)\n",
    "            \n",
    "            total_loss += len(data) * criterion(output_trans, target_trans).item()\n",
    "            \n",
    "    return total_loss / (len(src) - 1)\n"
   ]
  },
  {
   "cell_type": "code",
   "execution_count": 13,
   "metadata": {
    "colab": {
     "base_uri": "https://localhost:8080/",
     "height": 381
    },
    "id": "tZDramCJfwec",
    "outputId": "6b842e7f-b493-42a1-8118-c263cf475722"
   },
   "outputs": [
    {
     "name": "stderr",
     "output_type": "stream",
     "text": [
      "C:\\Users\\jonas\\miniconda3\\lib\\site-packages\\torch\\optim\\lr_scheduler.py:369: UserWarning: To get the last learning rate computed by the scheduler, please use `get_last_lr()`.\n",
      "  warnings.warn(\"To get the last learning rate computed by the scheduler, \"\n"
     ]
    },
    {
     "name": "stdout",
     "output_type": "stream",
     "text": [
      "| epoch   1 |    10/   40 batches | lr 0.10 | ms/batch 529.29 | loss  3.31 | ppl    27.36|\n",
      "| epoch   1 |    20/   40 batches | lr 0.10 | ms/batch 410.59 | loss  2.66 | ppl    14.25|\n",
      "| epoch   1 |    30/   40 batches | lr 0.10 | ms/batch 409.39 | loss  2.50 | ppl    12.19|\n",
      "-----------------------------------------------------------------------------------------\n",
      "| end of epoch   1 | time: 17.90s | valid loss  2.45 | valid ppl    11.57\n",
      "-----------------------------------------------------------------------------------------\n",
      "| epoch   2 |    10/   40 batches | lr 0.09 | ms/batch 451.80 | loss  2.52 | ppl    12.37|\n",
      "| epoch   2 |    20/   40 batches | lr 0.09 | ms/batch 416.09 | loss  2.20 | ppl     8.99|\n",
      "| epoch   2 |    30/   40 batches | lr 0.09 | ms/batch 415.69 | loss  2.13 | ppl     8.44|\n",
      "-----------------------------------------------------------------------------------------\n",
      "| end of epoch   2 | time: 17.33s | valid loss  2.25 | valid ppl     9.50\n",
      "-----------------------------------------------------------------------------------------\n",
      "| epoch   3 |    10/   40 batches | lr 0.09 | ms/batch 480.91 | loss  2.21 | ppl     9.13|\n",
      "| epoch   3 |    20/   40 batches | lr 0.09 | ms/batch 418.29 | loss  1.95 | ppl     7.06|\n",
      "| epoch   3 |    30/   40 batches | lr 0.09 | ms/batch 416.59 | loss  1.91 | ppl     6.72|\n",
      "-----------------------------------------------------------------------------------------\n",
      "| end of epoch   3 | time: 17.54s | valid loss  2.17 | valid ppl     8.76\n",
      "-----------------------------------------------------------------------------------------\n",
      "| epoch   4 |    10/   40 batches | lr 0.08 | ms/batch 452.70 | loss  2.02 | ppl     7.55|\n",
      "| epoch   4 |    20/   40 batches | lr 0.08 | ms/batch 415.49 | loss  1.80 | ppl     6.05|\n",
      "| epoch   4 |    30/   40 batches | lr 0.08 | ms/batch 412.19 | loss  1.77 | ppl     5.84|\n",
      "-----------------------------------------------------------------------------------------\n",
      "| end of epoch   4 | time: 17.20s | valid loss  2.07 | valid ppl     7.90\n",
      "-----------------------------------------------------------------------------------------\n",
      "| epoch   5 |    10/   40 batches | lr 0.08 | ms/batch 454.20 | loss  1.88 | ppl     6.56|\n",
      "| epoch   5 |    20/   40 batches | lr 0.08 | ms/batch 416.99 | loss  1.68 | ppl     5.38|\n",
      "| epoch   5 |    30/   40 batches | lr 0.08 | ms/batch 412.09 | loss  1.66 | ppl     5.24|\n",
      "-----------------------------------------------------------------------------------------\n",
      "| end of epoch   5 | time: 17.21s | valid loss  2.01 | valid ppl     7.44\n",
      "-----------------------------------------------------------------------------------------\n",
      "| epoch   6 |    10/   40 batches | lr 0.07 | ms/batch 460.90 | loss  1.77 | ppl     5.89|\n",
      "| epoch   6 |    20/   40 batches | lr 0.07 | ms/batch 414.19 | loss  1.59 | ppl     4.89|\n",
      "| epoch   6 |    30/   40 batches | lr 0.07 | ms/batch 418.59 | loss  1.57 | ppl     4.80|\n",
      "-----------------------------------------------------------------------------------------\n",
      "| end of epoch   6 | time: 17.36s | valid loss  1.97 | valid ppl     7.16\n",
      "-----------------------------------------------------------------------------------------\n",
      "| epoch   7 |    10/   40 batches | lr 0.07 | ms/batch 463.00 | loss  1.68 | ppl     5.39|\n",
      "| epoch   7 |    20/   40 batches | lr 0.07 | ms/batch 418.09 | loss  1.51 | ppl     4.53|\n",
      "| epoch   7 |    30/   40 batches | lr 0.07 | ms/batch 414.29 | loss  1.49 | ppl     4.45|\n",
      "-----------------------------------------------------------------------------------------\n",
      "| end of epoch   7 | time: 17.38s | valid loss  1.90 | valid ppl     6.72\n",
      "-----------------------------------------------------------------------------------------\n",
      "| epoch   8 |    10/   40 batches | lr 0.07 | ms/batch 455.00 | loss  1.60 | ppl     4.96|\n",
      "| epoch   8 |    20/   40 batches | lr 0.07 | ms/batch 418.49 | loss  1.44 | ppl     4.20|\n",
      "| epoch   8 |    30/   40 batches | lr 0.07 | ms/batch 414.19 | loss  1.42 | ppl     4.15|\n",
      "-----------------------------------------------------------------------------------------\n",
      "| end of epoch   8 | time: 17.40s | valid loss  1.83 | valid ppl     6.26\n",
      "-----------------------------------------------------------------------------------------\n",
      "| epoch   9 |    10/   40 batches | lr 0.06 | ms/batch 455.20 | loss  1.52 | ppl     4.59|\n",
      "| epoch   9 |    20/   40 batches | lr 0.06 | ms/batch 414.09 | loss  1.37 | ppl     3.93|\n",
      "| epoch   9 |    30/   40 batches | lr 0.06 | ms/batch 418.29 | loss  1.35 | ppl     3.86|\n",
      "-----------------------------------------------------------------------------------------\n",
      "| end of epoch   9 | time: 17.27s | valid loss  1.77 | valid ppl     5.86\n",
      "-----------------------------------------------------------------------------------------\n",
      "| epoch  10 |    10/   40 batches | lr 0.06 | ms/batch 457.00 | loss  1.45 | ppl     4.26|\n",
      "| epoch  10 |    20/   40 batches | lr 0.06 | ms/batch 414.39 | loss  1.30 | ppl     3.67|\n",
      "| epoch  10 |    30/   40 batches | lr 0.06 | ms/batch 418.79 | loss  1.28 | ppl     3.61|\n",
      "-----------------------------------------------------------------------------------------\n",
      "| end of epoch  10 | time: 17.30s | valid loss  1.72 | valid ppl     5.60\n",
      "-----------------------------------------------------------------------------------------\n",
      "| epoch  11 |    10/   40 batches | lr 0.06 | ms/batch 455.70 | loss  1.38 | ppl     3.96|\n",
      "| epoch  11 |    20/   40 batches | lr 0.06 | ms/batch 420.69 | loss  1.24 | ppl     3.44|\n",
      "| epoch  11 |    30/   40 batches | lr 0.06 | ms/batch 414.09 | loss  1.22 | ppl     3.38|\n",
      "-----------------------------------------------------------------------------------------\n",
      "| end of epoch  11 | time: 17.29s | valid loss  1.64 | valid ppl     5.18\n",
      "-----------------------------------------------------------------------------------------\n",
      "| epoch  12 |    10/   40 batches | lr 0.05 | ms/batch 456.10 | loss  1.30 | ppl     3.67|\n",
      "| epoch  12 |    20/   40 batches | lr 0.05 | ms/batch 418.49 | loss  1.17 | ppl     3.21|\n",
      "| epoch  12 |    30/   40 batches | lr 0.05 | ms/batch 414.19 | loss  1.15 | ppl     3.17|\n",
      "-----------------------------------------------------------------------------------------\n",
      "| end of epoch  12 | time: 17.30s | valid loss  1.58 | valid ppl     4.83\n",
      "-----------------------------------------------------------------------------------------\n",
      "| epoch  13 |    10/   40 batches | lr 0.05 | ms/batch 460.20 | loss  1.23 | ppl     3.43|\n",
      "| epoch  13 |    20/   40 batches | lr 0.05 | ms/batch 415.09 | loss  1.10 | ppl     3.01|\n",
      "| epoch  13 |    30/   40 batches | lr 0.05 | ms/batch 415.19 | loss  1.09 | ppl     2.97|\n",
      "-----------------------------------------------------------------------------------------\n",
      "| end of epoch  13 | time: 17.30s | valid loss  1.50 | valid ppl     4.49\n",
      "-----------------------------------------------------------------------------------------\n",
      "| epoch  14 |    10/   40 batches | lr 0.05 | ms/batch 464.00 | loss  1.16 | ppl     3.20|\n",
      "| epoch  14 |    20/   40 batches | lr 0.05 | ms/batch 417.89 | loss  1.04 | ppl     2.83|\n",
      "| epoch  14 |    30/   40 batches | lr 0.05 | ms/batch 414.39 | loss  1.03 | ppl     2.79|\n",
      "-----------------------------------------------------------------------------------------\n",
      "| end of epoch  14 | time: 17.40s | valid loss  1.42 | valid ppl     4.14\n",
      "-----------------------------------------------------------------------------------------\n",
      "| epoch  15 |    10/   40 batches | lr 0.05 | ms/batch 456.00 | loss  1.10 | ppl     3.00|\n",
      "| epoch  15 |    20/   40 batches | lr 0.05 | ms/batch 414.19 | loss  0.98 | ppl     2.68|\n",
      "| epoch  15 |    30/   40 batches | lr 0.05 | ms/batch 414.69 | loss  0.97 | ppl     2.63|\n",
      "-----------------------------------------------------------------------------------------\n",
      "| end of epoch  15 | time: 17.29s | valid loss  1.36 | valid ppl     3.88\n",
      "-----------------------------------------------------------------------------------------\n"
     ]
    }
   ],
   "source": [
    "best_val_loss = float(\"inf\")\n",
    "epochs = 30 # The number of epochs\n",
    "best_model = None\n",
    "\n",
    "for epoch in range(1, epochs + 1):\n",
    "    epoch_start_time = time.time()\n",
    "    train()\n",
    "    val_loss = evaluate(model, val_src, val_tgt)\n",
    "    val_losses.append(val_loss)\n",
    "    print('-' * 89)\n",
    "    print('| end of epoch {:3d} | time: {:5.2f}s | valid loss {:5.2f} | '\n",
    "          'valid ppl {:8.2f}'.format(epoch, (time.time() - epoch_start_time),\n",
    "                                     val_loss, math.exp(val_loss)))\n",
    "    print('-' * 89)\n",
    "\n",
    "    if val_loss < best_val_loss:\n",
    "        best_val_loss = val_loss\n",
    "        best_model = model\n",
    "\n",
    "    scheduler.step()"
   ]
  },
  {
   "cell_type": "code",
   "execution_count": 14,
   "metadata": {
    "id": "XPTZdip9XkTT"
   },
   "outputs": [
    {
     "data": {
      "image/png": "[encoded data removed]",
      "text/plain": [
       "<Figure size 432x288 with 1 Axes>"
      ]
     },
     "metadata": {
      "needs_background": "light"
     },
     "output_type": "display_data"
    }
   ],
   "source": [
    "\n",
    "plt.figure()\n",
    "\n",
    "plt.plot(train_losses, label=\"train\")\n",
    "plt.plot(val_losses, label=\"validation\")\n",
    "plt.xlabel(\"epoch\")\n",
    "plt.ylabel(\"loss\")\n",
    "plt.legend()\n",
    "plt.show()\n"
   ]
  },
  {
   "cell_type": "code",
   "execution_count": 15,
   "metadata": {
    "colab": {
     "base_uri": "https://localhost:8080/"
    },
    "id": "vDPz0G4MfyL6",
    "outputId": "b7e93030-f301-44ea-e6ba-5d917286e439"
   },
   "outputs": [
    {
     "name": "stdout",
     "output_type": "stream",
     "text": [
      "=========================================================================================\n",
      "| End of training | test loss 1.3500278586 | test ppl 3.8575329947\n",
      "=========================================================================================\n",
      "Last validation loss: 1.35645076053176\n"
     ]
    }
   ],
   "source": [
    "eval_model = best_model\n",
    "test_loss = evaluate(best_model, test_src, test_tgt)\n",
    "print('=' * 89)\n",
    "print('| End of training | test loss {:5.10f} | test ppl {:8.10f}'.format(\n",
    "    test_loss, math.exp(test_loss)))\n",
    "print('=' * 89)\n",
    "\n",
    "print(\"Last validation loss: {}\".format(val_losses[-1]))"
   ]
  },
  {
   "cell_type": "code",
   "execution_count": 16,
   "metadata": {
    "id": "ZsUG0R1oXkTT"
   },
   "outputs": [],
   "source": [
    "idx_to_letter = {val:key for key, val in char_nums.items()}\n",
    "\n",
    "def sample_categorical(lnprobs, temperature=1.0):\n",
    "    \"\"\"\n",
    "    Sample an element from a categorical distribution\n",
    "    :param lnprobs: Outcome log-probabilities\n",
    "    :param temperature: Sampling temperature. 1.0 follows the given distribution,\n",
    "        0.0 returns the maximum probability element.\n",
    "    :return: The index of the sampled element.\n",
    "    \"\"\"\n",
    "\n",
    "    if temperature == 0.0:\n",
    "        return lnprobs.argmax()\n",
    "    p = F.softmax(lnprobs / temperature, dim=1)\n",
    "\n",
    "    #print(\"softmaxed probs:\", p)\n",
    "    \n",
    "    return dist.Categorical(p).sample()\n",
    "\n",
    "def sample_sentence(model, query, max_len = 140, temperature=1):\n",
    "    device = torch.device(\"cuda\" if torch.cuda.is_available() else \"cpu\")\n",
    "\n",
    "    while len(query) < max_len and '<eos>' not in query:\n",
    "        data, targets = batchify([query])\n",
    "        data, targets = data.to(device), targets.to(device)\n",
    "    \n",
    "        src_mask = model.generate_square_subsequent_mask(data.size(0)).to(device)\n",
    "        src_pad_mask = (data == 0).bool().view(data.size(1), data.size(0))\n",
    "        \n",
    "        tgt_mask = model.generate_square_subsequent_mask(targets.size(0)).to(device)\n",
    "        tgt_pad_mask = (targets == 0).bool().view(targets.size(1), targets.size(0))   \n",
    "        \n",
    "        output = output = eval_model(data, src_mask, targets, tgt_mask, src_pad_mask, tgt_pad_mask).view(-1, ntokens)\n",
    "        \n",
    "        next_char_idx = sample_categorical(output, temperature) #0.5\n",
    "                \n",
    "        try:\n",
    "            query += [idx_to_letter[int(next_char_idx[-1])]]\n",
    "        except IndexError:\n",
    "            query += [idx_to_letter[int(next_char_idx)]]\n",
    "            \n",
    "    return query\n"
   ]
  },
  {
   "cell_type": "code",
   "execution_count": 17,
   "metadata": {
    "colab": {
     "base_uri": "https://localhost:8080/"
    },
    "id": "N3rHcGmkG3_m",
    "outputId": "45ef1fc7-ae43-48ac-dc0a-f5382bd3d713"
   },
   "outputs": [
    {
     "name": "stdout",
     "output_type": "stream",
     "text": [
      "478 <sos> E A W P V G V C C C A A C C C A A C C A A G C R C F V S I C C L A E C A A S C F A A C C C L L C S V A C C V A W C V A I C C V V C C L A E C V S C S V Y C C C C C A L C R A A C C A A A C C C L C C A V C C A A C C A A G Y R C C L A C C C L A E A I C C C A F C F A F C S A V C W A I C C A A G C S A R C A A C A A G C R A A S <sos> R G V E C P V G C E A A C C R R S C F A F F P S V C C A V C C A Q C P V P C R C C A A A C C A V C C C A A C I A C C A A A A C C A A C P A L C C L L Y Y C A A A C C A A C A C C A A C C L A Y C C V V C C A I A C C A A C A A A C S A A A C C R A C C V A V C I L K C C A L C E A C C A A G C C A A L C R C H V V C C A R C C V A V C C I A C C A A C A A C V A V V C I R C G A K C A A C C A A A G C C L A M C G A F C F A S C L L C E L F C L A F C A A C G A F C A A A C C A A C C A A C C A A C C V C C H A W C V A V C I <sos> C G A C C A A S S V R C C A C A T C I A C C L V V P C A V C C C A A C C C F A S A C C C S A C C A A C A A G P W G R <eos>\n",
      "100 <sos> E G V C C A A C C A A C C A A A A C C C A A A G C C A L A Y C C A L S V P C F C L A R C F A S C D A A P S G C C C L L P C G A C C A A C G L R C A R C A A C C A C F L S C R V V C C A A C C A A G C <eos>\n",
      "150 <sos> E A A C C A A C P A G C R A C C A A G G R R A F C F C S A C C V A C A L C S A <sos> C A A S C C A C C C C C C L A R C A A A K C S L L V L C L A C C C A A C C V A I C C C C A C C A A A A C C A A A S A C C A A C C C V A C C T A P G G R C C A A C C A A C C C A A I C C V R C A A C C C S A C C C A A G C <eos>\n",
      "54 <sos> E G W K K Y P C L A R S C T L F M F H A W C V L I Y C A A A C C A A G A N C F A S C L E V I S C V C G C <eos>\n",
      "260 <sos> E G <sos> <sos> G A R C C L L L V Y C C A V C C A L C E A A S H A W C R L T Q F A P C P C G A R C A S G C C C A A C C A A C C A A C C A A C C C Y C C L A G C C R V I C C V A C C V A I C C A A C C C A A A S I L C C A A S C C A A C C A A C C C C V C I F C S V R C A C C C A L C V C C C A A G C C R L C V A C S A F C R A A C C V A V G C R T A F C V A C C A A C C A A C C V V I I C C A V C V A C C A L C E A A C C A A C C V A C C A A C C C S A P C G I L C C V C C A A S C L A E C A A C C A A C S A E S H L C C A A C C C A V G C <eos>\n"
     ]
    }
   ],
   "source": [
    "import torch.distributions as dist\n",
    "for _ in range(5):\n",
    "    sample = sample_sentence(model, [\"<sos>\", \"E\"], max_len = 500, temperature=0.9)\n",
    "\n",
    "    print(len(sample), \" \".join(sample))\n",
    "    "
   ]
  },
  {
   "cell_type": "code",
   "execution_count": null,
   "metadata": {
    "id": "VvvgjJGWHhB5"
   },
   "outputs": [],
   "source": []
  },
  {
   "cell_type": "code",
   "execution_count": null,
   "metadata": {
    "id": "9d0EO5DHXkTT"
   },
   "outputs": [],
   "source": []
  }
 ],
 "metadata": {
  "accelerator": "GPU",
  "colab": {
   "collapsed_sections": [],
   "name": "project2_jonas.ipynb",
   "provenance": []
  },
  "kernelspec": {
   "display_name": "Python 3",
   "language": "python",
   "name": "python3"
  },
  "language_info": {
   "codemirror_mode": {
    "name": "ipython",
    "version": 3
   },
   "file_extension": ".py",
   "mimetype": "text/x-python",
   "name": "python",
   "nbconvert_exporter": "python",
   "pygments_lexer": "ipython3",
   "version": "3.8.3"
  }
 },
 "nbformat": 4,
 "nbformat_minor": 1
}
