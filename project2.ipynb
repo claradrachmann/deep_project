{
  "nbformat": 4,
  "nbformat_minor": 0,
  "metadata": {
    "colab": {
      "name": "project2.ipynb",
      "provenance": [],
      "collapsed_sections": []
    },
    "kernelspec": {
      "name": "python3",
      "display_name": "Python 3"
    },
    "accelerator": "GPU"
  },
  "cells": [
    {
      "cell_type": "code",
      "metadata": {
        "colab": {
          "base_uri": "https://localhost:8080/"
        },
        "id": "el6WZUx3ctwE",
        "outputId": "5d9fbe45-6b7a-4116-8e42-65a3bc2cf133"
      },
      "source": [
        "import numpy as np\n",
        "from google.colab import drive\n",
        "drive.mount('/content/drive')\n",
        "!ls drive/'My Drive/YYY_deep_project_YYY'"
      ],
      "execution_count": null,
      "outputs": [
        {
          "output_type": "stream",
          "text": [
            "Mounted at /content/drive\n",
            "all_fasta.fasta  project2.ipynb\t\t\trcsb_pdb_20201109050028.fasta\n",
            "all_heavy.fasta  project.ipynb\t\t\trcsb_pdb_20201109050057.fasta\n",
            "all_light.fasta  rcsb_pdb_20201109045815.fasta\trcsb_pdb_20201109050206.fasta\n",
            "chains.py\t rcsb_pdb_20201109050006.fasta\tsabdab_summary_all-2.tsv\n"
          ],
          "name": "stdout"
        }
      ]
    },
    {
      "cell_type": "code",
      "metadata": {
        "id": "v26joBvcdLT9"
      },
      "source": [
        "from collections import defaultdict\n",
        "\n",
        "def sequences_to_dicts(sequences):\n",
        "    \"\"\"\n",
        "    Creates word_to_idx and idx_to_word dictionaries for a list of sequences.\n",
        "    \"\"\"\n",
        "    # A bit of Python-magic to flatten a nested list\n",
        "    flatten = lambda l: [item for sublist in l for item in sublist]\n",
        "\n",
        "    # Flatten the dataset\n",
        "    all_words = flatten(sequences)\n",
        "\n",
        "    # Count number of word occurences\n",
        "    word_count = defaultdict(int)\n",
        "    for word in flatten(sequences):\n",
        "        word_count[word] += 1\n",
        "\n",
        "    # Sort by frequency\n",
        "    word_count = sorted(list(word_count.items()), key=lambda l: -l[1])\n",
        "\n",
        "    # Create a list of all unique words\n",
        "    unique_words = [item[0] for item in word_count]\n",
        "\n",
        "    # Add UNK token to list of words\n",
        "    unique_words.append('UNK')\n",
        "\n",
        "    # Count number of sequences and number of unique words\n",
        "    num_sentences, vocab_size = len(sequences), len(unique_words)\n",
        "\n",
        "    # Create dictionaries so that we can go from word to index and back\n",
        "    # If a word is not in our vocabulary, we assign it to token 'UNK'\n",
        "    word_to_idx = defaultdict(lambda: vocab_size-1)\n",
        "    idx_to_word = defaultdict(lambda: 'UNK')\n",
        "\n",
        "    # Fill dictionaries\n",
        "    for idx, word in enumerate(unique_words):\n",
        "        word_to_idx[word] = idx\n",
        "        idx_to_word[idx] = word\n",
        "\n",
        "    return word_to_idx, idx_to_word, num_sentences, vocab_size"
      ],
      "execution_count": null,
      "outputs": []
    },
    {
      "cell_type": "code",
      "metadata": {
        "id": "OcYm_Z9sdVq4"
      },
      "source": [
        "def get_sequence(infile):\n",
        "\n",
        "    while True:\n",
        "\n",
        "        header = infile.readline()\n",
        "        sequence = infile.readline()\n",
        "\n",
        "        pdb = header[1:5]\n",
        "\n",
        "        if not header or not sequence or set(sequence) == {'X'}:\n",
        "            return\n",
        "        \n",
        "        yield header.strip()[1:], sequence.strip(), pdb"
      ],
      "execution_count": null,
      "outputs": []
    },
    {
      "cell_type": "code",
      "metadata": {
        "id": "n9DUsmJkdYTj"
      },
      "source": [
        "sequences = []\n",
        "seq_to_pdb = {}\n",
        "count = 0\n",
        "with open('drive/My Drive/YYY_deep_project_YYY/all_heavy.fasta') as infile:\n",
        "\n",
        "        for header, sequence, pdb in get_sequence(infile):\n",
        "            #if count < 500:\n",
        "            sequences.append(list(sequence))\n",
        "                #count += 1\n",
        "            \n",
        "            seq_to_pdb[sequence] = pdb"
      ],
      "execution_count": null,
      "outputs": []
    },
    {
      "cell_type": "code",
      "metadata": {
        "colab": {
          "base_uri": "https://localhost:8080/",
          "height": 424
        },
        "id": "Y5eCi_x1mV9c",
        "outputId": "6bdb9285-0cd7-443b-c242-6bf2bf06fa67"
      },
      "source": [
        "import pandas as pd\n",
        "\n",
        "df = pd.read_csv('drive/My Drive/YYY_deep_project_YYY/sabdab_summary_all-2.tsv', sep='\\t')\n",
        "df = df[['pdb', 'affinity']]\n",
        "df"
      ],
      "execution_count": null,
      "outputs": [
        {
          "output_type": "execute_result",
          "data": {
            "text/html": [
              "<div>\n",
              "<style scoped>\n",
              "    .dataframe tbody tr th:only-of-type {\n",
              "        vertical-align: middle;\n",
              "    }\n",
              "\n",
              "    .dataframe tbody tr th {\n",
              "        vertical-align: top;\n",
              "    }\n",
              "\n",
              "    .dataframe thead th {\n",
              "        text-align: right;\n",
              "    }\n",
              "</style>\n",
              "<table border=\"1\" class=\"dataframe\">\n",
              "  <thead>\n",
              "    <tr style=\"text-align: right;\">\n",
              "      <th></th>\n",
              "      <th>pdb</th>\n",
              "      <th>affinity</th>\n",
              "    </tr>\n",
              "  </thead>\n",
              "  <tbody>\n",
              "    <tr>\n",
              "      <th>0</th>\n",
              "      <td>5m2j</td>\n",
              "      <td>1.3000000000000002e-10</td>\n",
              "    </tr>\n",
              "    <tr>\n",
              "      <th>1</th>\n",
              "      <td>6fe4</td>\n",
              "      <td>9.6e-09</td>\n",
              "    </tr>\n",
              "    <tr>\n",
              "      <th>2</th>\n",
              "      <td>7jmo</td>\n",
              "      <td>None</td>\n",
              "    </tr>\n",
              "    <tr>\n",
              "      <th>3</th>\n",
              "      <td>6ch9</td>\n",
              "      <td>None</td>\n",
              "    </tr>\n",
              "    <tr>\n",
              "      <th>4</th>\n",
              "      <td>4o51</td>\n",
              "      <td>None</td>\n",
              "    </tr>\n",
              "    <tr>\n",
              "      <th>...</th>\n",
              "      <td>...</td>\n",
              "      <td>...</td>\n",
              "    </tr>\n",
              "    <tr>\n",
              "      <th>8562</th>\n",
              "      <td>5ukq</td>\n",
              "      <td>None</td>\n",
              "    </tr>\n",
              "    <tr>\n",
              "      <th>8563</th>\n",
              "      <td>6ejm</td>\n",
              "      <td>8.6e-10</td>\n",
              "    </tr>\n",
              "    <tr>\n",
              "      <th>8564</th>\n",
              "      <td>5bk0</td>\n",
              "      <td>None</td>\n",
              "    </tr>\n",
              "    <tr>\n",
              "      <th>8565</th>\n",
              "      <td>3vi3</td>\n",
              "      <td>None</td>\n",
              "    </tr>\n",
              "    <tr>\n",
              "      <th>8566</th>\n",
              "      <td>4nc1</td>\n",
              "      <td>None</td>\n",
              "    </tr>\n",
              "  </tbody>\n",
              "</table>\n",
              "<p>8567 rows × 2 columns</p>\n",
              "</div>"
            ],
            "text/plain": [
              "       pdb                affinity\n",
              "0     5m2j  1.3000000000000002e-10\n",
              "1     6fe4                 9.6e-09\n",
              "2     7jmo                    None\n",
              "3     6ch9                    None\n",
              "4     4o51                    None\n",
              "...    ...                     ...\n",
              "8562  5ukq                    None\n",
              "8563  6ejm                 8.6e-10\n",
              "8564  5bk0                    None\n",
              "8565  3vi3                    None\n",
              "8566  4nc1                    None\n",
              "\n",
              "[8567 rows x 2 columns]"
            ]
          },
          "metadata": {
            "tags": []
          },
          "execution_count": 38
        }
      ]
    },
    {
      "cell_type": "code",
      "metadata": {
        "id": "lVSriKBHdqU7"
      },
      "source": [
        "from torch.utils import data\n",
        "\n",
        "class Dataset(data.Dataset):\n",
        "    def __init__(self, inputs, targets):\n",
        "        self.inputs = inputs\n",
        "        self.targets = targets\n",
        "\n",
        "    def __len__(self):\n",
        "        # Return the size of the dataset\n",
        "        return len(self.targets)\n",
        "\n",
        "    def __getitem__(self, index):\n",
        "        # Retrieve inputs and targets at the given index\n",
        "        X = self.inputs[index]\n",
        "        y = self.targets[index]\n",
        "\n",
        "        return X, y\n",
        "\n",
        "def create_datasets(sequences, dataset_class, p_train=0.8, p_val=0.1, p_test=0.1):\n",
        "    \n",
        "    #def seq_handler(sequences, p, start, end):\n",
        "    #   num = int(len(sequences)*p)\n",
        "    #   seq_part = sequences\n",
        "    \n",
        "    # Define partition sizes\n",
        "    num_train = int(len(sequences)*p_train)\n",
        "    num_val = int(len(sequences)*p_val)\n",
        "    num_test = int(len(sequences)*p_test)\n",
        "\n",
        "    # Split sequences into partitions\n",
        "    sequences_train = sequences[:num_train-1]\n",
        "    sequences_val = sequences[num_train:num_train+num_val-1]\n",
        "    sequences_test = sequences[-num_test:-1]\n",
        "\n",
        "    target_seqs_train = [seq[1:] for seq in sequences_train]\n",
        "    target_seqs_val = [seq[1:] for seq in sequences_val]\n",
        "    target_seqs_test = [seq[1:] for seq in sequences_test]\n",
        "\n",
        "\n",
        "    input_train = [x for sublist in [['<sos>'] + list(seq)+['<eos>'] for seq in sequences_train] for x in sublist]\n",
        "    input_val = [x for sublist in [['<sos>'] + list(seq)+['<eos>'] for seq in sequences_val] for x in sublist]\n",
        "    input_test = [x for sublist in [['<sos>'] + list(seq)+['<eos>'] for seq in sequences_test] for x in sublist]\n",
        "\n",
        "\n",
        "    target_train = [x for sublist in [['<sos>'] + list(seq)+['<eos>'] for seq in target_seqs_train] for x in sublist]\n",
        "    target_val = [x for sublist in [['<sos>'] + list(seq)+['<eos>'] for seq in target_seqs_val] for x in sublist]\n",
        "    target_test = [x for sublist in [['<sos>'] + list(seq)+['<eos>'] for seq in target_seqs_test] for x in sublist]\n",
        "\n",
        "\n",
        "    def get_inputs_targets_from_sequences(sequences):\n",
        "        # Define empty lists\n",
        "        inputs, targets = [], []\n",
        "        \n",
        "        # Append inputs and targets s.t. both lists contain L-1 words of a sentence of length L\n",
        "        # but targets are shifted right by one so that we can predict the next word\n",
        "        for sequence in sequences:\n",
        "            inputs.append(sequence[:-1])\n",
        "            targets.append(sequence[1:])\n",
        "\n",
        "            # We want to predict e.g. last 1/3 of sequence based on first 2/3\n",
        "            #l = len(sequence) - len(sequence[:int(3*len(sequence)/4)])\n",
        "            #inputs.append(sequence[:int(3*len(sequence)/4)])\n",
        "            #targets.append(sequence[l:])\n",
        "            \n",
        "        return inputs, targets\n",
        "\n",
        "    # Get inputs and targets for each partition\n",
        "    inputs_train, targets_train = get_inputs_targets_from_sequences(sequences_train)\n",
        "    inputs_val, targets_val = get_inputs_targets_from_sequences(sequences_val)\n",
        "    inputs_test, targets_test = get_inputs_targets_from_sequences(sequences_test)\n",
        "\n",
        "    # Create datasets\n",
        "    training_set = dataset_class(inputs_train, targets_train)\n",
        "    validation_set = dataset_class(inputs_val, targets_val)\n",
        "    test_set = dataset_class(inputs_test, targets_test)\n",
        "\n",
        "    #return training_set, validation_set, test_set\n",
        "\n",
        "    return input_train, input_val, input_test, target_train, target_val, target_test, training_set, validation_set, test_set\n",
        "    \n",
        "\n",
        "input_train, input_val, input_test, target_train, target_val, target_test, training_set, validation_set, test_set = create_datasets(sequences, Dataset)\n"
      ],
      "execution_count": null,
      "outputs": []
    },
    {
      "cell_type": "code",
      "metadata": {
        "id": "YNWaI923d3YE"
      },
      "source": [
        "import math\n",
        "import torch\n",
        "import torch.nn as nn\n",
        "import torch.nn.functional as F\n",
        "\n",
        "class TransformerModel(nn.Module):\n",
        "\n",
        "    def __init__(self, ntoken, ninp, nhead, nhid, nlayers, dropout=0.5):\n",
        "        super(TransformerModel, self).__init__()\n",
        "        from torch.nn import TransformerEncoder, TransformerEncoderLayer\n",
        "        self.model_type = 'Transformer'\n",
        "        self.pos_encoder = PositionalEncoding(ninp, dropout)\n",
        "        encoder_layers = TransformerEncoderLayer(ninp, nhead, nhid, dropout)\n",
        "        self.transformer_encoder = TransformerEncoder(encoder_layers, nlayers)\n",
        "        self.encoder = nn.Embedding(ntoken, ninp)\n",
        "        self.ninp = ninp\n",
        "        self.decoder = nn.Linear(ninp, ntoken)\n",
        "\n",
        "        self.init_weights()\n",
        "\n",
        "    def generate_square_subsequent_mask(self, sz):\n",
        "        mask = (torch.triu(torch.ones(sz, sz)) == 1).transpose(0, 1)\n",
        "        mask = mask.float().masked_fill(mask == 0, float('-inf')).masked_fill(mask == 1, float(0.0))\n",
        "        return mask\n",
        "\n",
        "    def init_weights(self):\n",
        "        initrange = 0.1\n",
        "        self.encoder.weight.data.uniform_(-initrange, initrange)\n",
        "        self.decoder.bias.data.zero_()\n",
        "        self.decoder.weight.data.uniform_(-initrange, initrange)\n",
        "\n",
        "    def forward(self, src, src_mask):\n",
        "        src = self.encoder(src) * math.sqrt(self.ninp)\n",
        "        src = self.pos_encoder(src)\n",
        "        output = self.transformer_encoder(src, src_mask)\n",
        "        output = self.decoder(output)\n",
        "        return output"
      ],
      "execution_count": null,
      "outputs": []
    },
    {
      "cell_type": "code",
      "metadata": {
        "id": "q4ia5HMZfemk"
      },
      "source": [
        "class PositionalEncoding(nn.Module):\n",
        "\n",
        "    def __init__(self, d_model, dropout=0.1, max_len=5000):\n",
        "        super(PositionalEncoding, self).__init__()\n",
        "        self.dropout = nn.Dropout(p=dropout)\n",
        "\n",
        "        pe = torch.zeros(max_len, d_model)\n",
        "        position = torch.arange(0, max_len, dtype=torch.float).unsqueeze(1)\n",
        "        div_term = torch.exp(torch.arange(0, d_model, 2).float() * (-math.log(10000.0) / d_model))\n",
        "        pe[:, 0::2] = torch.sin(position * div_term)\n",
        "        pe[:, 1::2] = torch.cos(position * div_term)\n",
        "        pe = pe.unsqueeze(0).transpose(0, 1)\n",
        "        self.register_buffer('pe', pe)\n",
        "\n",
        "    def forward(self, x):\n",
        "        x = x + self.pe[:x.size(0), :]\n",
        "        return self.dropout(x)"
      ],
      "execution_count": null,
      "outputs": []
    },
    {
      "cell_type": "code",
      "metadata": {
        "colab": {
          "base_uri": "https://localhost:8080/"
        },
        "id": "BhidawGufk43",
        "outputId": "57df2aca-eec0-48f4-902d-142bdb8e93f3"
      },
      "source": [
        "import torchtext\n",
        "from torchtext.data.utils import get_tokenizer\n",
        "TEXT = torchtext.data.Field(tokenize=get_tokenizer(\"spacy\"),\n",
        "                            init_token='<sos>',\n",
        "                            eos_token='<eos>',\n",
        "                            lower=True)\n",
        "#train_txt, val_txt, test_txt = torchtext.datasets.WikiText2.splits(TEXT)\n",
        "train_txt, val_txt, test_txt = training_set, validation_set, test_set\n",
        "\n",
        "TEXT.build_vocab(train_txt)\n",
        "device = torch.device(\"cuda\" if torch.cuda.is_available() else \"cpu\")\n",
        "\n",
        "def batchify(data, bsz):\n",
        "    #print(data.examples[0].text)\n",
        "    data = TEXT.numericalize([data])\n",
        "    \n",
        "    #data = TEXT.numericalize([data[0].text])\n",
        "    # Divide the dataset into bsz parts.\n",
        "    nbatch = data.size(0) // bsz\n",
        "    # Trim off any extra elements that wouldn't cleanly fit (remainders).\n",
        "    data = data.narrow(0, 0, nbatch * bsz)\n",
        "    # Evenly divide the data across the bsz batches.\n",
        "    data = data.view(bsz, -1).t().contiguous()\n",
        "    return data.to(device)\n",
        "\n",
        "batch_size = 20\n",
        "eval_batch_size = 10\n",
        "train_data = batchify(input_train, batch_size)\n",
        "val_data = batchify(input_val, eval_batch_size)\n",
        "test_data = batchify(input_test, eval_batch_size)\n",
        "\n",
        "#print(train_txt)\n",
        "print(training_set)\n",
        "train_data.shape\n",
        "test_data.shape"
      ],
      "execution_count": null,
      "outputs": [
        {
          "output_type": "stream",
          "text": [
            "<__main__.Dataset object at 0x7fbeda14d208>\n"
          ],
          "name": "stdout"
        },
        {
          "output_type": "execute_result",
          "data": {
            "text/plain": [
              "torch.Size([8862, 10])"
            ]
          },
          "metadata": {
            "tags": []
          },
          "execution_count": 17
        }
      ]
    },
    {
      "cell_type": "code",
      "metadata": {
        "id": "UglAQA33frSw"
      },
      "source": [
        "bptt = 35\n",
        "def get_batch(source, i):\n",
        "    seq_len = min(bptt, len(source) - 1 - i)\n",
        "    data = source[i:i+seq_len]\n",
        "    target = source[i+1:i+1+seq_len].reshape(-1)\n",
        "    return data, target"
      ],
      "execution_count": null,
      "outputs": []
    },
    {
      "cell_type": "code",
      "metadata": {
        "id": "tLXVBEIrfr-D"
      },
      "source": [
        "ntokens = len(TEXT.vocab.stoi) # the size of vocabulary\n",
        "emsize = 200 # embedding dimension\n",
        "nhid = 200 # the dimension of the feedforward network model in nn.TransformerEncoder\n",
        "nlayers = 2 # the number of nn.TransformerEncoderLayer in nn.TransformerEncoder\n",
        "nhead = 2 # the number of heads in the multiheadattention models\n",
        "dropout = 0.2 # the dropout value\n",
        "model = TransformerModel(ntokens, emsize, nhead, nhid, nlayers, dropout).to(device)"
      ],
      "execution_count": null,
      "outputs": []
    },
    {
      "cell_type": "code",
      "metadata": {
        "id": "Qc1m7dgifuPc"
      },
      "source": [
        "criterion = nn.CrossEntropyLoss()\n",
        "lr = 5.0 # learning rate\n",
        "optimizer = torch.optim.SGD(model.parameters(), lr=lr)\n",
        "scheduler = torch.optim.lr_scheduler.StepLR(optimizer, 1.0, gamma=0.95)\n",
        "\n",
        "model.cuda()\n",
        "\n",
        "import time\n",
        "def train():\n",
        "    model.train() # Turn on the train mode\n",
        "    total_loss = 0.\n",
        "    start_time = time.time()\n",
        "    ntokens = len(TEXT.vocab.stoi)\n",
        "    src_mask = model.generate_square_subsequent_mask(bptt).to(device)\n",
        "    for batch, i in enumerate(range(0, train_data.size(0) - 1, bptt)):\n",
        "        data, targets = get_batch(train_data, i)\n",
        "\n",
        "        data, targets = data.cuda(), targets.cuda()\n",
        "        optimizer.zero_grad()\n",
        "        if data.size(0) != bptt:\n",
        "            src_mask = model.generate_square_subsequent_mask(data.size(0)).to(device)\n",
        "        output = model(data, src_mask)\n",
        "        loss = criterion(output.view(-1, ntokens), targets)\n",
        "        loss.backward()\n",
        "        torch.nn.utils.clip_grad_norm_(model.parameters(), 0.5)\n",
        "        optimizer.step()\n",
        "\n",
        "        total_loss += loss.item()\n",
        "        log_interval = 200\n",
        "        if batch % log_interval == 0 and batch > 0:\n",
        "            cur_loss = total_loss / log_interval\n",
        "            elapsed = time.time() - start_time\n",
        "            print('| epoch {:3d} | {:5d}/{:5d} batches | '\n",
        "                  'lr {:02.2f} | ms/batch {:5.2f} | '\n",
        "                  'loss {:5.2f} | ppl {:8.2f}'.format(\n",
        "                    epoch, batch, len(train_data) // bptt, scheduler.get_lr()[0],\n",
        "                    elapsed * 1000 / log_interval,\n",
        "                    cur_loss, math.exp(cur_loss)))\n",
        "            total_loss = 0\n",
        "            start_time = time.time()\n",
        "\n",
        "def evaluate(eval_model, data_source):\n",
        "    eval_model.eval() # Turn on the evaluation mode\n",
        "    total_loss = 0.\n",
        "    ntokens = len(TEXT.vocab.stoi)\n",
        "    src_mask = model.generate_square_subsequent_mask(bptt).to(device)\n",
        "    with torch.no_grad():\n",
        "        for i in range(0, data_source.size(0) - 1, bptt):\n",
        "            data, targets = get_batch(data_source, i)\n",
        "            if data.size(0) != bptt:\n",
        "                src_mask = model.generate_square_subsequent_mask(data.size(0)).to(device)\n",
        "            output = eval_model(data, src_mask)\n",
        "            output_flat = output.view(-1, ntokens)\n",
        "            total_loss += len(data) * criterion(output_flat, targets).item()\n",
        "    return total_loss / (len(data_source) - 1)\n"
      ],
      "execution_count": null,
      "outputs": []
    },
    {
      "cell_type": "code",
      "metadata": {
        "id": "tZDramCJfwec",
        "colab": {
          "base_uri": "https://localhost:8080/"
        },
        "outputId": "64aa7a19-419e-4edb-edcc-a8610689067a"
      },
      "source": [
        "best_val_loss = float(\"inf\")\n",
        "epochs = 10 # The number of epochs\n",
        "best_model = None\n",
        "\n",
        "for epoch in range(1, epochs + 1):\n",
        "    epoch_start_time = time.time()\n",
        "    train()\n",
        "    val_loss = evaluate(model, val_data)\n",
        "    print('-' * 89)\n",
        "    print('| end of epoch {:3d} | time: {:5.2f}s | valid loss {:5.2f} | '\n",
        "          'valid ppl {:8.2f}'.format(epoch, (time.time() - epoch_start_time),\n",
        "                                     val_loss, math.exp(val_loss)))\n",
        "    print('-' * 89)\n",
        "\n",
        "    if val_loss < best_val_loss:\n",
        "        best_val_loss = val_loss\n",
        "        best_model = model\n",
        "\n",
        "    scheduler.step()"
      ],
      "execution_count": null,
      "outputs": [
        {
          "output_type": "stream",
          "text": [
            "/usr/local/lib/python3.6/dist-packages/torch/optim/lr_scheduler.py:370: UserWarning: To get the last learning rate computed by the scheduler, please use `get_last_lr()`.\n",
            "  \"please use `get_last_lr()`.\", UserWarning)\n"
          ],
          "name": "stderr"
        },
        {
          "output_type": "stream",
          "text": [
            "| epoch   1 |   200/ 1002 batches | lr 5.00 | ms/batch  7.43 | loss  2.10 | ppl     8.13\n",
            "| epoch   1 |   400/ 1002 batches | lr 5.00 | ms/batch  7.41 | loss  2.06 | ppl     7.86\n",
            "| epoch   1 |   600/ 1002 batches | lr 5.00 | ms/batch  7.39 | loss  2.05 | ppl     7.80\n",
            "| epoch   1 |   800/ 1002 batches | lr 5.00 | ms/batch  7.29 | loss  2.05 | ppl     7.75\n",
            "| epoch   1 |  1000/ 1002 batches | lr 5.00 | ms/batch  7.27 | loss  2.06 | ppl     7.84\n",
            "-----------------------------------------------------------------------------------------\n",
            "| end of epoch   1 | time:  7.84s | valid loss  1.89 | valid ppl     6.60\n",
            "-----------------------------------------------------------------------------------------\n",
            "| epoch   2 |   200/ 1002 batches | lr 4.51 | ms/batch  7.46 | loss  2.05 | ppl     7.73\n",
            "| epoch   2 |   400/ 1002 batches | lr 4.51 | ms/batch  7.36 | loss  2.02 | ppl     7.57\n",
            "| epoch   2 |   600/ 1002 batches | lr 4.51 | ms/batch  7.41 | loss  2.01 | ppl     7.45\n",
            "| epoch   2 |   800/ 1002 batches | lr 4.51 | ms/batch  7.20 | loss  2.00 | ppl     7.36\n",
            "| epoch   2 |  1000/ 1002 batches | lr 4.51 | ms/batch  7.18 | loss  2.03 | ppl     7.59\n",
            "-----------------------------------------------------------------------------------------\n",
            "| end of epoch   2 | time:  7.79s | valid loss  1.83 | valid ppl     6.24\n",
            "-----------------------------------------------------------------------------------------\n",
            "| epoch   3 |   200/ 1002 batches | lr 4.29 | ms/batch  7.47 | loss  2.01 | ppl     7.43\n",
            "| epoch   3 |   400/ 1002 batches | lr 4.29 | ms/batch  7.15 | loss  1.97 | ppl     7.20\n",
            "| epoch   3 |   600/ 1002 batches | lr 4.29 | ms/batch  7.12 | loss  1.97 | ppl     7.18\n",
            "| epoch   3 |   800/ 1002 batches | lr 4.29 | ms/batch  7.22 | loss  1.97 | ppl     7.20\n",
            "| epoch   3 |  1000/ 1002 batches | lr 4.29 | ms/batch  7.20 | loss  1.99 | ppl     7.34\n",
            "-----------------------------------------------------------------------------------------\n",
            "| end of epoch   3 | time:  7.72s | valid loss  1.80 | valid ppl     6.04\n",
            "-----------------------------------------------------------------------------------------\n",
            "| epoch   4 |   200/ 1002 batches | lr 4.07 | ms/batch  7.40 | loss  1.98 | ppl     7.26\n",
            "| epoch   4 |   400/ 1002 batches | lr 4.07 | ms/batch  7.24 | loss  1.94 | ppl     6.94\n",
            "| epoch   4 |   600/ 1002 batches | lr 4.07 | ms/batch  7.30 | loss  1.95 | ppl     7.00\n",
            "| epoch   4 |   800/ 1002 batches | lr 4.07 | ms/batch  7.39 | loss  1.94 | ppl     6.96\n",
            "| epoch   4 |  1000/ 1002 batches | lr 4.07 | ms/batch  7.16 | loss  1.96 | ppl     7.08\n",
            "-----------------------------------------------------------------------------------------\n",
            "| end of epoch   4 | time:  7.76s | valid loss  1.79 | valid ppl     5.97\n",
            "-----------------------------------------------------------------------------------------\n",
            "| epoch   5 |   200/ 1002 batches | lr 3.87 | ms/batch  7.19 | loss  1.95 | ppl     7.03\n",
            "| epoch   5 |   400/ 1002 batches | lr 3.87 | ms/batch  7.05 | loss  1.91 | ppl     6.77\n",
            "| epoch   5 |   600/ 1002 batches | lr 3.87 | ms/batch  7.23 | loss  1.91 | ppl     6.77\n",
            "| epoch   5 |   800/ 1002 batches | lr 3.87 | ms/batch  7.26 | loss  1.92 | ppl     6.81\n",
            "| epoch   5 |  1000/ 1002 batches | lr 3.87 | ms/batch  7.26 | loss  1.93 | ppl     6.87\n",
            "-----------------------------------------------------------------------------------------\n",
            "| end of epoch   5 | time:  7.67s | valid loss  1.76 | valid ppl     5.82\n",
            "-----------------------------------------------------------------------------------------\n",
            "| epoch   6 |   200/ 1002 batches | lr 3.68 | ms/batch  7.36 | loss  1.93 | ppl     6.91\n",
            "| epoch   6 |   400/ 1002 batches | lr 3.68 | ms/batch  7.18 | loss  1.89 | ppl     6.64\n",
            "| epoch   6 |   600/ 1002 batches | lr 3.68 | ms/batch  7.10 | loss  1.90 | ppl     6.72\n",
            "| epoch   6 |   800/ 1002 batches | lr 3.68 | ms/batch  7.15 | loss  1.88 | ppl     6.55\n",
            "| epoch   6 |  1000/ 1002 batches | lr 3.68 | ms/batch  7.28 | loss  1.90 | ppl     6.66\n",
            "-----------------------------------------------------------------------------------------\n",
            "| end of epoch   6 | time:  7.68s | valid loss  1.74 | valid ppl     5.70\n",
            "-----------------------------------------------------------------------------------------\n",
            "| epoch   7 |   200/ 1002 batches | lr 3.49 | ms/batch  7.23 | loss  1.90 | ppl     6.68\n",
            "| epoch   7 |   400/ 1002 batches | lr 3.49 | ms/batch  7.10 | loss  1.87 | ppl     6.49\n",
            "| epoch   7 |   600/ 1002 batches | lr 3.49 | ms/batch  7.23 | loss  1.87 | ppl     6.48\n",
            "| epoch   7 |   800/ 1002 batches | lr 3.49 | ms/batch  7.25 | loss  1.86 | ppl     6.44\n",
            "| epoch   7 |  1000/ 1002 batches | lr 3.49 | ms/batch  7.32 | loss  1.88 | ppl     6.56\n",
            "-----------------------------------------------------------------------------------------\n",
            "| end of epoch   7 | time:  7.71s | valid loss  1.72 | valid ppl     5.60\n",
            "-----------------------------------------------------------------------------------------\n",
            "| epoch   8 |   200/ 1002 batches | lr 3.32 | ms/batch  7.29 | loss  1.88 | ppl     6.55\n",
            "| epoch   8 |   400/ 1002 batches | lr 3.32 | ms/batch  7.34 | loss  1.84 | ppl     6.32\n",
            "| epoch   8 |   600/ 1002 batches | lr 3.32 | ms/batch  7.21 | loss  1.85 | ppl     6.34\n",
            "| epoch   8 |   800/ 1002 batches | lr 3.32 | ms/batch  7.30 | loss  1.84 | ppl     6.28\n",
            "| epoch   8 |  1000/ 1002 batches | lr 3.32 | ms/batch  7.12 | loss  1.86 | ppl     6.43\n",
            "-----------------------------------------------------------------------------------------\n",
            "| end of epoch   8 | time:  7.73s | valid loss  1.70 | valid ppl     5.47\n",
            "-----------------------------------------------------------------------------------------\n",
            "| epoch   9 |   200/ 1002 batches | lr 3.15 | ms/batch  7.34 | loss  1.86 | ppl     6.40\n",
            "| epoch   9 |   400/ 1002 batches | lr 3.15 | ms/batch  7.22 | loss  1.83 | ppl     6.22\n",
            "| epoch   9 |   600/ 1002 batches | lr 3.15 | ms/batch  7.20 | loss  1.82 | ppl     6.19\n",
            "| epoch   9 |   800/ 1002 batches | lr 3.15 | ms/batch  7.32 | loss  1.81 | ppl     6.12\n",
            "| epoch   9 |  1000/ 1002 batches | lr 3.15 | ms/batch  7.10 | loss  1.84 | ppl     6.30\n",
            "-----------------------------------------------------------------------------------------\n",
            "| end of epoch   9 | time:  7.70s | valid loss  1.68 | valid ppl     5.38\n",
            "-----------------------------------------------------------------------------------------\n",
            "| epoch  10 |   200/ 1002 batches | lr 2.99 | ms/batch  7.29 | loss  1.85 | ppl     6.33\n",
            "| epoch  10 |   400/ 1002 batches | lr 2.99 | ms/batch  6.98 | loss  1.80 | ppl     6.08\n",
            "| epoch  10 |   600/ 1002 batches | lr 2.99 | ms/batch  7.18 | loss  1.80 | ppl     6.08\n",
            "| epoch  10 |   800/ 1002 batches | lr 2.99 | ms/batch  7.14 | loss  1.79 | ppl     5.99\n",
            "| epoch  10 |  1000/ 1002 batches | lr 2.99 | ms/batch  7.34 | loss  1.82 | ppl     6.15\n",
            "-----------------------------------------------------------------------------------------\n",
            "| end of epoch  10 | time:  7.67s | valid loss  1.65 | valid ppl     5.22\n",
            "-----------------------------------------------------------------------------------------\n"
          ],
          "name": "stdout"
        }
      ]
    },
    {
      "cell_type": "code",
      "metadata": {
        "id": "vDPz0G4MfyL6",
        "colab": {
          "base_uri": "https://localhost:8080/"
        },
        "outputId": "bc4b2650-4731-4689-8e17-053afb0522a0"
      },
      "source": [
        "test_loss = evaluate(best_model, test_data)\n",
        "print('=' * 89)\n",
        "print('| End of training | test loss {:5.2f} | test ppl {:8.2f}'.format(\n",
        "    test_loss, math.exp(test_loss)))\n",
        "print('=' * 89)"
      ],
      "execution_count": null,
      "outputs": [
        {
          "output_type": "stream",
          "text": [
            "=========================================================================================\n",
            "| End of training | test loss  1.54 | test ppl     4.68\n",
            "=========================================================================================\n"
          ],
          "name": "stdout"
        }
      ]
    },
    {
      "cell_type": "code",
      "metadata": {
        "id": "snqnWKVlQNI7",
        "outputId": "c6e7b8a7-ba04-4d77-b16c-85ad1cc9b72e",
        "colab": {
          "base_uri": "https://localhost:8080/",
          "height": 158
        }
      },
      "source": [
        "torch.Tensor('A')"
      ],
      "execution_count": 85,
      "outputs": [
        {
          "output_type": "error",
          "ename": "TypeError",
          "evalue": "ignored",
          "traceback": [
            "\u001b[0;31m---------------------------------------------------------------------------\u001b[0m",
            "\u001b[0;31mTypeError\u001b[0m                                 Traceback (most recent call last)",
            "\u001b[0;32m<ipython-input-85-909b24ecfdab>\u001b[0m in \u001b[0;36m<module>\u001b[0;34m()\u001b[0m\n\u001b[0;32m----> 1\u001b[0;31m \u001b[0mtorch\u001b[0m\u001b[0;34m.\u001b[0m\u001b[0mTensor\u001b[0m\u001b[0;34m(\u001b[0m\u001b[0;34m(\u001b[0m\u001b[0;34m'A'\u001b[0m\u001b[0;34m)\u001b[0m\u001b[0;34m)\u001b[0m\u001b[0;34m\u001b[0m\u001b[0;34m\u001b[0m\u001b[0m\n\u001b[0m",
            "\u001b[0;31mTypeError\u001b[0m: new(): invalid data type 'str'"
          ]
        }
      ]
    },
    {
      "cell_type": "code",
      "metadata": {
        "id": "51GrkCzbxtI5",
        "colab": {
          "base_uri": "https://localhost:8080/",
          "height": 191
        },
        "outputId": "7386e5d7-cae7-4be6-b1f7-5bcf5513cdac"
      },
      "source": [
        "\n",
        "src_mask = model.generate_square_subsequent_mask(bptt).to(device)\n",
        "model('A', src_mask)\n"
      ],
      "execution_count": 80,
      "outputs": [
        {
          "output_type": "error",
          "ename": "TypeError",
          "evalue": "ignored",
          "traceback": [
            "\u001b[0;31m---------------------------------------------------------------------------\u001b[0m",
            "\u001b[0;31mTypeError\u001b[0m                                 Traceback (most recent call last)",
            "\u001b[0;32m<ipython-input-80-7a48841e4b4b>\u001b[0m in \u001b[0;36m<module>\u001b[0;34m()\u001b[0m\n\u001b[1;32m      1\u001b[0m \u001b[0;34m\u001b[0m\u001b[0m\n\u001b[1;32m      2\u001b[0m \u001b[0msrc_mask\u001b[0m \u001b[0;34m=\u001b[0m \u001b[0mmodel\u001b[0m\u001b[0;34m.\u001b[0m\u001b[0mgenerate_square_subsequent_mask\u001b[0m\u001b[0;34m(\u001b[0m\u001b[0mbptt\u001b[0m\u001b[0;34m)\u001b[0m\u001b[0;34m.\u001b[0m\u001b[0mto\u001b[0m\u001b[0;34m(\u001b[0m\u001b[0mdevice\u001b[0m\u001b[0;34m)\u001b[0m\u001b[0;34m\u001b[0m\u001b[0;34m\u001b[0m\u001b[0m\n\u001b[0;32m----> 3\u001b[0;31m \u001b[0mmodel\u001b[0m\u001b[0;34m(\u001b[0m\u001b[0mtorch\u001b[0m\u001b[0;34m.\u001b[0m\u001b[0mTensor\u001b[0m\u001b[0;34m(\u001b[0m\u001b[0;34m'A'\u001b[0m\u001b[0;34m)\u001b[0m\u001b[0;34m,\u001b[0m \u001b[0msrc_mask\u001b[0m\u001b[0;34m)\u001b[0m\u001b[0;34m\u001b[0m\u001b[0;34m\u001b[0m\u001b[0m\n\u001b[0m",
            "\u001b[0;31mTypeError\u001b[0m: new(): invalid data type 'str'"
          ]
        }
      ]
    },
    {
      "cell_type": "code",
      "metadata": {
        "colab": {
          "base_uri": "https://localhost:8080/",
          "height": 346
        },
        "id": "N3rHcGmkG3_m",
        "outputId": "c9a7c77c-31f2-4009-ba1f-1fe0a3a286d3"
      },
      "source": [
        "def sample_categorical(lnprobs, temperature=1.0):\n",
        "    \"\"\"\n",
        "    Sample an element from a categorical distribution\n",
        "    :param lnprobs: Outcome log-probabilities\n",
        "    :param temperature: Sampling temperature. 1.0 follows the given distribution,\n",
        "        0.0 returns the maximum probability element.\n",
        "    :return: The index of the sampled element.\n",
        "    \"\"\"\n",
        "\n",
        "    if temperature == 0.0:\n",
        "        return lnprobs.argmax()\n",
        "    p = F.softmax(lnprobs / temperature, dim=0)\n",
        "    return dist.Categorical(p).sample()\n",
        "\n",
        "def sample_sentence(model, query, max_len = 140, temperature=1):\n",
        "    device = torch.device(\"cuda\" if torch.cuda.is_available() else \"cpu\")\n",
        "\n",
        "    for _ in range(max_len - len(query)):\n",
        "        query_ = torch.zeros(max_len).to(torch.long)\n",
        "        query_[:len(query)] = torch.from_numpy(np.frombuffer(str.encode(query), np.uint8).copy())\n",
        "        output, _     = model(query_.unsqueeze(0).to(device))\n",
        "        next_char_idx = sample_categorical(output[0, :, len(query) - 1], temperature) #0.5\n",
        "        if next_char_idx <= 1:\n",
        "            # query += \"*\"\n",
        "            break\n",
        "        query += str(chr(max(32, next_char_idx)))\n",
        "    \n",
        "    return query\n",
        "\n",
        "sample_sentence(model, \"A\", max_len = 140, temperature=1)"
      ],
      "execution_count": null,
      "outputs": [
        {
          "output_type": "error",
          "ename": "TypeError",
          "evalue": "ignored",
          "traceback": [
            "\u001b[0;31m---------------------------------------------------------------------------\u001b[0m",
            "\u001b[0;31mTypeError\u001b[0m                                 Traceback (most recent call last)",
            "\u001b[0;32m<ipython-input-39-11edea366e7d>\u001b[0m in \u001b[0;36m<module>\u001b[0;34m()\u001b[0m\n\u001b[1;32m     28\u001b[0m     \u001b[0;32mreturn\u001b[0m \u001b[0mquery\u001b[0m\u001b[0;34m\u001b[0m\u001b[0;34m\u001b[0m\u001b[0m\n\u001b[1;32m     29\u001b[0m \u001b[0;34m\u001b[0m\u001b[0m\n\u001b[0;32m---> 30\u001b[0;31m \u001b[0msample_sentence\u001b[0m\u001b[0;34m(\u001b[0m\u001b[0mmodel\u001b[0m\u001b[0;34m,\u001b[0m \u001b[0;34m\"A\"\u001b[0m\u001b[0;34m,\u001b[0m \u001b[0mmax_len\u001b[0m \u001b[0;34m=\u001b[0m \u001b[0;36m140\u001b[0m\u001b[0;34m,\u001b[0m \u001b[0mtemperature\u001b[0m\u001b[0;34m=\u001b[0m\u001b[0;36m1\u001b[0m\u001b[0;34m)\u001b[0m\u001b[0;34m\u001b[0m\u001b[0;34m\u001b[0m\u001b[0m\n\u001b[0m",
            "\u001b[0;32m<ipython-input-39-11edea366e7d>\u001b[0m in \u001b[0;36msample_sentence\u001b[0;34m(model, query, max_len, temperature)\u001b[0m\n\u001b[1;32m     19\u001b[0m         \u001b[0mquery_\u001b[0m \u001b[0;34m=\u001b[0m \u001b[0mtorch\u001b[0m\u001b[0;34m.\u001b[0m\u001b[0mzeros\u001b[0m\u001b[0;34m(\u001b[0m\u001b[0mmax_len\u001b[0m\u001b[0;34m)\u001b[0m\u001b[0;34m.\u001b[0m\u001b[0mto\u001b[0m\u001b[0;34m(\u001b[0m\u001b[0mtorch\u001b[0m\u001b[0;34m.\u001b[0m\u001b[0mlong\u001b[0m\u001b[0;34m)\u001b[0m\u001b[0;34m\u001b[0m\u001b[0;34m\u001b[0m\u001b[0m\n\u001b[1;32m     20\u001b[0m         \u001b[0mquery_\u001b[0m\u001b[0;34m[\u001b[0m\u001b[0;34m:\u001b[0m\u001b[0mlen\u001b[0m\u001b[0;34m(\u001b[0m\u001b[0mquery\u001b[0m\u001b[0;34m)\u001b[0m\u001b[0;34m]\u001b[0m \u001b[0;34m=\u001b[0m \u001b[0mtorch\u001b[0m\u001b[0;34m.\u001b[0m\u001b[0mfrom_numpy\u001b[0m\u001b[0;34m(\u001b[0m\u001b[0mnp\u001b[0m\u001b[0;34m.\u001b[0m\u001b[0mfrombuffer\u001b[0m\u001b[0;34m(\u001b[0m\u001b[0mstr\u001b[0m\u001b[0;34m.\u001b[0m\u001b[0mencode\u001b[0m\u001b[0;34m(\u001b[0m\u001b[0mquery\u001b[0m\u001b[0;34m)\u001b[0m\u001b[0;34m,\u001b[0m \u001b[0mnp\u001b[0m\u001b[0;34m.\u001b[0m\u001b[0muint8\u001b[0m\u001b[0;34m)\u001b[0m\u001b[0;34m.\u001b[0m\u001b[0mcopy\u001b[0m\u001b[0;34m(\u001b[0m\u001b[0;34m)\u001b[0m\u001b[0;34m)\u001b[0m\u001b[0;34m\u001b[0m\u001b[0;34m\u001b[0m\u001b[0m\n\u001b[0;32m---> 21\u001b[0;31m         \u001b[0moutput\u001b[0m\u001b[0;34m,\u001b[0m \u001b[0m_\u001b[0m     \u001b[0;34m=\u001b[0m \u001b[0mmodel\u001b[0m\u001b[0;34m(\u001b[0m\u001b[0mquery_\u001b[0m\u001b[0;34m.\u001b[0m\u001b[0munsqueeze\u001b[0m\u001b[0;34m(\u001b[0m\u001b[0;36m0\u001b[0m\u001b[0;34m)\u001b[0m\u001b[0;34m.\u001b[0m\u001b[0mto\u001b[0m\u001b[0;34m(\u001b[0m\u001b[0mdevice\u001b[0m\u001b[0;34m)\u001b[0m\u001b[0;34m)\u001b[0m\u001b[0;34m\u001b[0m\u001b[0;34m\u001b[0m\u001b[0m\n\u001b[0m\u001b[1;32m     22\u001b[0m         \u001b[0mnext_char_idx\u001b[0m \u001b[0;34m=\u001b[0m \u001b[0msample_categorical\u001b[0m\u001b[0;34m(\u001b[0m\u001b[0moutput\u001b[0m\u001b[0;34m[\u001b[0m\u001b[0;36m0\u001b[0m\u001b[0;34m,\u001b[0m \u001b[0;34m:\u001b[0m\u001b[0;34m,\u001b[0m \u001b[0mlen\u001b[0m\u001b[0;34m(\u001b[0m\u001b[0mquery\u001b[0m\u001b[0;34m)\u001b[0m \u001b[0;34m-\u001b[0m \u001b[0;36m1\u001b[0m\u001b[0;34m]\u001b[0m\u001b[0;34m,\u001b[0m \u001b[0mtemperature\u001b[0m\u001b[0;34m)\u001b[0m \u001b[0;31m#0.5\u001b[0m\u001b[0;34m\u001b[0m\u001b[0;34m\u001b[0m\u001b[0m\n\u001b[1;32m     23\u001b[0m         \u001b[0;32mif\u001b[0m \u001b[0mnext_char_idx\u001b[0m \u001b[0;34m<=\u001b[0m \u001b[0;36m1\u001b[0m\u001b[0;34m:\u001b[0m\u001b[0;34m\u001b[0m\u001b[0;34m\u001b[0m\u001b[0m\n",
            "\u001b[0;32m/usr/local/lib/python3.6/dist-packages/torch/nn/modules/module.py\u001b[0m in \u001b[0;36m_call_impl\u001b[0;34m(self, *input, **kwargs)\u001b[0m\n\u001b[1;32m    725\u001b[0m             \u001b[0mresult\u001b[0m \u001b[0;34m=\u001b[0m \u001b[0mself\u001b[0m\u001b[0;34m.\u001b[0m\u001b[0m_slow_forward\u001b[0m\u001b[0;34m(\u001b[0m\u001b[0;34m*\u001b[0m\u001b[0minput\u001b[0m\u001b[0;34m,\u001b[0m \u001b[0;34m**\u001b[0m\u001b[0mkwargs\u001b[0m\u001b[0;34m)\u001b[0m\u001b[0;34m\u001b[0m\u001b[0;34m\u001b[0m\u001b[0m\n\u001b[1;32m    726\u001b[0m         \u001b[0;32melse\u001b[0m\u001b[0;34m:\u001b[0m\u001b[0;34m\u001b[0m\u001b[0;34m\u001b[0m\u001b[0m\n\u001b[0;32m--> 727\u001b[0;31m             \u001b[0mresult\u001b[0m \u001b[0;34m=\u001b[0m \u001b[0mself\u001b[0m\u001b[0;34m.\u001b[0m\u001b[0mforward\u001b[0m\u001b[0;34m(\u001b[0m\u001b[0;34m*\u001b[0m\u001b[0minput\u001b[0m\u001b[0;34m,\u001b[0m \u001b[0;34m**\u001b[0m\u001b[0mkwargs\u001b[0m\u001b[0;34m)\u001b[0m\u001b[0;34m\u001b[0m\u001b[0;34m\u001b[0m\u001b[0m\n\u001b[0m\u001b[1;32m    728\u001b[0m         for hook in itertools.chain(\n\u001b[1;32m    729\u001b[0m                 \u001b[0m_global_forward_hooks\u001b[0m\u001b[0;34m.\u001b[0m\u001b[0mvalues\u001b[0m\u001b[0;34m(\u001b[0m\u001b[0;34m)\u001b[0m\u001b[0;34m,\u001b[0m\u001b[0;34m\u001b[0m\u001b[0;34m\u001b[0m\u001b[0m\n",
            "\u001b[0;31mTypeError\u001b[0m: forward() missing 1 required positional argument: 'src_mask'"
          ]
        }
      ]
    },
    {
      "cell_type": "code",
      "metadata": {
        "id": "0B1_dc1_HaQz"
      },
      "source": [
        ""
      ],
      "execution_count": null,
      "outputs": []
    },
    {
      "cell_type": "code",
      "metadata": {
        "id": "VvvgjJGWHhB5"
      },
      "source": [
        ""
      ],
      "execution_count": null,
      "outputs": []
    }
  ]
}