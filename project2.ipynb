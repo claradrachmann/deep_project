{
 "cells": [
  {
   "cell_type": "code",
   "execution_count": 1,
   "metadata": {
    "colab": {
     "base_uri": "https://localhost:8080/"
    },
    "id": "el6WZUx3ctwE",
    "outputId": "5d9fbe45-6b7a-4116-8e42-65a3bc2cf133"
   },
   "outputs": [],
   "source": [
    "import numpy as np\n",
    "#from google.colab import drive\n",
    "#drive.mount('/content/drive')\n",
    "#!ls drive/'My Drive/YYY_deep_project_YYY'"
   ]
  },
  {
   "cell_type": "code",
   "execution_count": 2,
   "metadata": {
    "id": "v26joBvcdLT9"
   },
   "outputs": [],
   "source": [
    "from collections import defaultdict\n",
    "\n",
    "def sequences_to_dicts(sequences):\n",
    "    \"\"\"\n",
    "    Creates word_to_idx and idx_to_word dictionaries for a list of sequences.\n",
    "    \"\"\"\n",
    "    # A bit of Python-magic to flatten a nested list\n",
    "    flatten = lambda l: [item for sublist in l for item in sublist]\n",
    "\n",
    "    # Flatten the dataset\n",
    "    all_words = flatten(sequences)\n",
    "\n",
    "    # Count number of word occurences\n",
    "    word_count = defaultdict(int)\n",
    "    for word in flatten(sequences):\n",
    "        word_count[word] += 1\n",
    "\n",
    "    # Sort by frequency\n",
    "    word_count = sorted(list(word_count.items()), key=lambda l: -l[1])\n",
    "\n",
    "    # Create a list of all unique words\n",
    "    unique_words = [item[0] for item in word_count]\n",
    "\n",
    "    # Add UNK token to list of words\n",
    "    unique_words.append('UNK')\n",
    "\n",
    "    # Count number of sequences and number of unique words\n",
    "    num_sentences, vocab_size = len(sequences), len(unique_words)\n",
    "\n",
    "    # Create dictionaries so that we can go from word to index and back\n",
    "    # If a word is not in our vocabulary, we assign it to token 'UNK'\n",
    "    word_to_idx = defaultdict(lambda: vocab_size-1)\n",
    "    idx_to_word = defaultdict(lambda: 'UNK')\n",
    "\n",
    "    # Fill dictionaries\n",
    "    for idx, word in enumerate(unique_words):\n",
    "        word_to_idx[word] = idx\n",
    "        idx_to_word[idx] = word\n",
    "\n",
    "    return word_to_idx, idx_to_word, num_sentences, vocab_size"
   ]
  },
  {
   "cell_type": "code",
   "execution_count": 3,
   "metadata": {
    "id": "OcYm_Z9sdVq4"
   },
   "outputs": [],
   "source": [
    "def get_sequence(infile):\n",
    "\n",
    "    while True:\n",
    "\n",
    "        header = infile.readline()\n",
    "        sequence = infile.readline()\n",
    "\n",
    "        pdb = header[1:5]\n",
    "\n",
    "        if not header or not sequence or set(sequence) == {'X'}:\n",
    "            return\n",
    "        \n",
    "        yield header.strip()[1:], sequence.strip(), pdb"
   ]
  },
  {
   "cell_type": "code",
   "execution_count": 6,
   "metadata": {
    "id": "n9DUsmJkdYTj"
   },
   "outputs": [],
   "source": [
    "sequences = []\n",
    "seq_to_pdb = {}\n",
    "count = 0\n",
    "with open('all_heavy.fasta') as infile:\n",
    "\n",
    "        for header, sequence, pdb in get_sequence(infile):\n",
    "            #if count < 500:\n",
    "            sequences.append(list(sequence))\n",
    "                #count += 1\n",
    "            \n",
    "            seq_to_pdb[sequence] = pdb"
   ]
  },
  {
   "cell_type": "code",
   "execution_count": 8,
   "metadata": {
    "colab": {
     "base_uri": "https://localhost:8080/",
     "height": 424
    },
    "id": "Y5eCi_x1mV9c",
    "outputId": "6bdb9285-0cd7-443b-c242-6bf2bf06fa67"
   },
   "outputs": [
    {
     "data": {
      "text/html": [
       "<div>\n",
       "<style scoped>\n",
       "    .dataframe tbody tr th:only-of-type {\n",
       "        vertical-align: middle;\n",
       "    }\n",
       "\n",
       "    .dataframe tbody tr th {\n",
       "        vertical-align: top;\n",
       "    }\n",
       "\n",
       "    .dataframe thead th {\n",
       "        text-align: right;\n",
       "    }\n",
       "</style>\n",
       "<table border=\"1\" class=\"dataframe\">\n",
       "  <thead>\n",
       "    <tr style=\"text-align: right;\">\n",
       "      <th></th>\n",
       "      <th>pdb</th>\n",
       "      <th>affinity</th>\n",
       "    </tr>\n",
       "  </thead>\n",
       "  <tbody>\n",
       "    <tr>\n",
       "      <th>0</th>\n",
       "      <td>5m2j</td>\n",
       "      <td>1.3000000000000002e-10</td>\n",
       "    </tr>\n",
       "    <tr>\n",
       "      <th>1</th>\n",
       "      <td>6fe4</td>\n",
       "      <td>9.6e-09</td>\n",
       "    </tr>\n",
       "    <tr>\n",
       "      <th>2</th>\n",
       "      <td>7jmo</td>\n",
       "      <td>None</td>\n",
       "    </tr>\n",
       "    <tr>\n",
       "      <th>3</th>\n",
       "      <td>6ch9</td>\n",
       "      <td>None</td>\n",
       "    </tr>\n",
       "    <tr>\n",
       "      <th>4</th>\n",
       "      <td>4o51</td>\n",
       "      <td>None</td>\n",
       "    </tr>\n",
       "    <tr>\n",
       "      <th>...</th>\n",
       "      <td>...</td>\n",
       "      <td>...</td>\n",
       "    </tr>\n",
       "    <tr>\n",
       "      <th>8562</th>\n",
       "      <td>5ukq</td>\n",
       "      <td>None</td>\n",
       "    </tr>\n",
       "    <tr>\n",
       "      <th>8563</th>\n",
       "      <td>6ejm</td>\n",
       "      <td>8.6e-10</td>\n",
       "    </tr>\n",
       "    <tr>\n",
       "      <th>8564</th>\n",
       "      <td>5bk0</td>\n",
       "      <td>None</td>\n",
       "    </tr>\n",
       "    <tr>\n",
       "      <th>8565</th>\n",
       "      <td>3vi3</td>\n",
       "      <td>None</td>\n",
       "    </tr>\n",
       "    <tr>\n",
       "      <th>8566</th>\n",
       "      <td>4nc1</td>\n",
       "      <td>None</td>\n",
       "    </tr>\n",
       "  </tbody>\n",
       "</table>\n",
       "<p>8567 rows × 2 columns</p>\n",
       "</div>"
      ],
      "text/plain": [
       "       pdb                affinity\n",
       "0     5m2j  1.3000000000000002e-10\n",
       "1     6fe4                 9.6e-09\n",
       "2     7jmo                    None\n",
       "3     6ch9                    None\n",
       "4     4o51                    None\n",
       "...    ...                     ...\n",
       "8562  5ukq                    None\n",
       "8563  6ejm                 8.6e-10\n",
       "8564  5bk0                    None\n",
       "8565  3vi3                    None\n",
       "8566  4nc1                    None\n",
       "\n",
       "[8567 rows x 2 columns]"
      ]
     },
     "execution_count": 8,
     "metadata": {},
     "output_type": "execute_result"
    }
   ],
   "source": [
    "import pandas as pd\n",
    "\n",
    "df = pd.read_csv('sabdab_summary_all-2.tsv', sep='\\t')\n",
    "df = df[['pdb', 'affinity']]\n",
    "df"
   ]
  },
  {
   "cell_type": "code",
   "execution_count": 9,
   "metadata": {
    "id": "lVSriKBHdqU7"
   },
   "outputs": [],
   "source": [
    "from torch.utils import data\n",
    "\n",
    "class Dataset(data.Dataset):\n",
    "    def __init__(self, inputs, targets):\n",
    "        self.inputs = inputs\n",
    "        self.targets = targets\n",
    "\n",
    "    def __len__(self):\n",
    "        # Return the size of the dataset\n",
    "        return len(self.targets)\n",
    "\n",
    "    def __getitem__(self, index):\n",
    "        # Retrieve inputs and targets at the given index\n",
    "        X = self.inputs[index]\n",
    "        y = self.targets[index]\n",
    "\n",
    "        return X, y\n",
    "\n",
    "def create_datasets(sequences, dataset_class, p_train=0.8, p_val=0.1, p_test=0.1):\n",
    "    \n",
    "    #def seq_handler(sequences, p, start, end):\n",
    "    #   num = int(len(sequences)*p)\n",
    "    #   seq_part = sequences\n",
    "    \n",
    "    # Define partition sizes\n",
    "    num_train = int(len(sequences)*p_train)\n",
    "    num_val = int(len(sequences)*p_val)\n",
    "    num_test = int(len(sequences)*p_test)\n",
    "\n",
    "    # Split sequences into partitions\n",
    "    sequences_train = sequences[:num_train-1]\n",
    "    sequences_val = sequences[num_train:num_train+num_val-1]\n",
    "    sequences_test = sequences[-num_test:-1]\n",
    "\n",
    "    target_seqs_train = [seq[1:] for seq in sequences_train]\n",
    "    target_seqs_val = [seq[1:] for seq in sequences_val]\n",
    "    target_seqs_test = [seq[1:] for seq in sequences_test]\n",
    "\n",
    "\n",
    "    input_train = [x for sublist in [['<sos>'] + list(seq)+['<eos>'] for seq in sequences_train] for x in sublist]\n",
    "    input_val = [x for sublist in [['<sos>'] + list(seq)+['<eos>'] for seq in sequences_val] for x in sublist]\n",
    "    input_test = [x for sublist in [['<sos>'] + list(seq)+['<eos>'] for seq in sequences_test] for x in sublist]\n",
    "\n",
    "\n",
    "    target_train = [x for sublist in [['<sos>'] + list(seq)+['<eos>'] for seq in target_seqs_train] for x in sublist]\n",
    "    target_val = [x for sublist in [['<sos>'] + list(seq)+['<eos>'] for seq in target_seqs_val] for x in sublist]\n",
    "    target_test = [x for sublist in [['<sos>'] + list(seq)+['<eos>'] for seq in target_seqs_test] for x in sublist]\n",
    "\n",
    "\n",
    "    def get_inputs_targets_from_sequences(sequences):\n",
    "        # Define empty lists\n",
    "        inputs, targets = [], []\n",
    "        \n",
    "        # Append inputs and targets s.t. both lists contain L-1 words of a sentence of length L\n",
    "        # but targets are shifted right by one so that we can predict the next word\n",
    "        for sequence in sequences:\n",
    "            inputs.append(sequence[:-1])\n",
    "            targets.append(sequence[1:])\n",
    "\n",
    "            # We want to predict e.g. last 1/3 of sequence based on first 2/3\n",
    "            #l = len(sequence) - len(sequence[:int(3*len(sequence)/4)])\n",
    "            #inputs.append(sequence[:int(3*len(sequence)/4)])\n",
    "            #targets.append(sequence[l:])\n",
    "            \n",
    "        return inputs, targets\n",
    "\n",
    "    # Get inputs and targets for each partition\n",
    "    inputs_train, targets_train = get_inputs_targets_from_sequences(sequences_train)\n",
    "    inputs_val, targets_val = get_inputs_targets_from_sequences(sequences_val)\n",
    "    inputs_test, targets_test = get_inputs_targets_from_sequences(sequences_test)\n",
    "\n",
    "    # Create datasets\n",
    "    training_set = dataset_class(inputs_train, targets_train)\n",
    "    validation_set = dataset_class(inputs_val, targets_val)\n",
    "    test_set = dataset_class(inputs_test, targets_test)\n",
    "\n",
    "    #return training_set, validation_set, test_set\n",
    "\n",
    "    return input_train, input_val, input_test, target_train, target_val, target_test, training_set, validation_set, test_set\n",
    "    \n",
    "\n",
    "input_train, input_val, input_test, target_train, target_val, target_test, training_set, validation_set, test_set = create_datasets(sequences, Dataset)\n"
   ]
  },
  {
   "cell_type": "code",
   "execution_count": 10,
   "metadata": {
    "id": "YNWaI923d3YE"
   },
   "outputs": [],
   "source": [
    "import math\n",
    "import torch\n",
    "import torch.nn as nn\n",
    "import torch.nn.functional as F\n",
    "\n",
    "class TransformerModel(nn.Module):\n",
    "\n",
    "    def __init__(self, ntoken, ninp, nhead, nhid, nlayers, dropout=0.5):\n",
    "        super(TransformerModel, self).__init__()\n",
    "        from torch.nn import TransformerEncoder, TransformerEncoderLayer\n",
    "        self.model_type = 'Transformer'\n",
    "        self.pos_encoder = PositionalEncoding(ninp, dropout)\n",
    "        encoder_layers = TransformerEncoderLayer(ninp, nhead, nhid, dropout)\n",
    "        self.transformer_encoder = TransformerEncoder(encoder_layers, nlayers)\n",
    "        self.encoder = nn.Embedding(ntoken, ninp)\n",
    "        self.ninp = ninp\n",
    "        self.decoder = nn.Linear(ninp, ntoken)\n",
    "\n",
    "        self.init_weights()\n",
    "\n",
    "    def generate_square_subsequent_mask(self, sz):\n",
    "        mask = (torch.triu(torch.ones(sz, sz)) == 1).transpose(0, 1)\n",
    "        mask = mask.float().masked_fill(mask == 0, float('-inf')).masked_fill(mask == 1, float(0.0))\n",
    "        return mask\n",
    "\n",
    "    def init_weights(self):\n",
    "        initrange = 0.1\n",
    "        self.encoder.weight.data.uniform_(-initrange, initrange)\n",
    "        self.decoder.bias.data.zero_()\n",
    "        self.decoder.weight.data.uniform_(-initrange, initrange)\n",
    "\n",
    "    def forward(self, src, src_mask):\n",
    "        src = self.encoder(src) * math.sqrt(self.ninp)\n",
    "        src = self.pos_encoder(src)\n",
    "        output = self.transformer_encoder(src, src_mask)\n",
    "        output = self.decoder(output)\n",
    "        return output"
   ]
  },
  {
   "cell_type": "code",
   "execution_count": 11,
   "metadata": {
    "id": "q4ia5HMZfemk"
   },
   "outputs": [],
   "source": [
    "class PositionalEncoding(nn.Module):\n",
    "\n",
    "    def __init__(self, d_model, dropout=0.1, max_len=5000):\n",
    "        super(PositionalEncoding, self).__init__()\n",
    "        self.dropout = nn.Dropout(p=dropout)\n",
    "\n",
    "        pe = torch.zeros(max_len, d_model)\n",
    "        position = torch.arange(0, max_len, dtype=torch.float).unsqueeze(1)\n",
    "        div_term = torch.exp(torch.arange(0, d_model, 2).float() * (-math.log(10000.0) / d_model))\n",
    "        pe[:, 0::2] = torch.sin(position * div_term)\n",
    "        pe[:, 1::2] = torch.cos(position * div_term)\n",
    "        pe = pe.unsqueeze(0).transpose(0, 1)\n",
    "        self.register_buffer('pe', pe)\n",
    "\n",
    "    def forward(self, x):\n",
    "        x = x + self.pe[:x.size(0), :]\n",
    "        return self.dropout(x)"
   ]
  },
  {
   "cell_type": "code",
   "execution_count": 70,
   "metadata": {
    "colab": {
     "base_uri": "https://localhost:8080/"
    },
    "id": "BhidawGufk43",
    "outputId": "57df2aca-eec0-48f4-902d-142bdb8e93f3"
   },
   "outputs": [
    {
     "name": "stdout",
     "output_type": "stream",
     "text": [
      "defaultdict(<bound method Vocab._default_unk_index of <torchtext.vocab.Vocab object at 0x11eb6f880>>, {'<unk>': 0, '<pad>': 1, '<sos>': 2, '<eos>': 3, 'S': 4, 'T': 5, 'G': 6, 'V': 7, 'L': 8, 'A': 9, 'P': 10, 'K': 11, 'Y': 12, 'Q': 13, 'D': 14, 'N': 15, 'E': 16, 'F': 17, 'R': 18, 'W': 19, 'I': 20, 'C': 21, 'H': 22, 'M': 23, 'X': 24})\n",
      "<__main__.Dataset object at 0x120b7cd00>\n"
     ]
    },
    {
     "data": {
      "text/plain": [
       "torch.Size([8862, 10])"
      ]
     },
     "execution_count": 70,
     "metadata": {},
     "output_type": "execute_result"
    }
   ],
   "source": [
    "import torchtext\n",
    "from torchtext.data.utils import get_tokenizer\n",
    "TEXT = torchtext.data.Field(tokenize=get_tokenizer(\"spacy\"),\n",
    "                            init_token='<sos>',\n",
    "                            eos_token='<eos>',\n",
    "                            lower=True)\n",
    "#train_txt, val_txt, test_txt = torchtext.datasets.WikiText2.splits(TEXT)\n",
    "train_txt, val_txt, test_txt = training_set, validation_set, test_set\n",
    "\n",
    "TEXT.build_vocab(train_txt)\n",
    "print(TEXT.vocab.stoi)\n",
    "device = torch.device(\"cuda\" if torch.cuda.is_available() else \"cpu\")\n",
    "\n",
    "def batchify(data, bsz):\n",
    "    #print(data.examples[0].text)\n",
    "    data = TEXT.numericalize([data])\n",
    "    \n",
    "    #data = TEXT.numericalize([data[0].text])\n",
    "    # Divide the dataset into bsz parts.\n",
    "    nbatch = data.size(0) // bsz\n",
    "    # Trim off any extra elements that wouldn't cleanly fit (remainders).\n",
    "    data = data.narrow(0, 0, nbatch * bsz)\n",
    "    # Evenly divide the data across the bsz batches.\n",
    "    data = data.view(bsz, -1).t().contiguous()\n",
    "    return data.to(device)\n",
    "\n",
    "batch_size = 20\n",
    "eval_batch_size = 10\n",
    "train_data = batchify(input_train, batch_size)\n",
    "val_data = batchify(input_val, eval_batch_size)\n",
    "test_data = batchify(input_test, eval_batch_size)\n",
    "\n",
    "#print(train_txt)\n",
    "print(training_set)\n",
    "train_data.shape\n",
    "test_data.shape"
   ]
  },
  {
   "cell_type": "code",
   "execution_count": 17,
   "metadata": {
    "id": "UglAQA33frSw"
   },
   "outputs": [],
   "source": [
    "bptt = 35\n",
    "def get_batch(source, i):\n",
    "    seq_len = min(bptt, len(source) - 1 - i)\n",
    "    data = source[i:i+seq_len]\n",
    "    target = source[i+1:i+1+seq_len].reshape(-1)\n",
    "    return data, target"
   ]
  },
  {
   "cell_type": "code",
   "execution_count": 18,
   "metadata": {
    "id": "tLXVBEIrfr-D"
   },
   "outputs": [],
   "source": [
    "ntokens = len(TEXT.vocab.stoi) # the size of vocabulary\n",
    "emsize = 200 # embedding dimension\n",
    "nhid = 200 # the dimension of the feedforward network model in nn.TransformerEncoder\n",
    "nlayers = 2 # the number of nn.TransformerEncoderLayer in nn.TransformerEncoder\n",
    "nhead = 2 # the number of heads in the multiheadattention models\n",
    "dropout = 0.2 # the dropout value\n",
    "model = TransformerModel(ntokens, emsize, nhead, nhid, nlayers, dropout).to(device)"
   ]
  },
  {
   "cell_type": "code",
   "execution_count": 20,
   "metadata": {
    "id": "Qc1m7dgifuPc"
   },
   "outputs": [],
   "source": [
    "criterion = nn.CrossEntropyLoss()\n",
    "lr = 5.0 # learning rate\n",
    "optimizer = torch.optim.SGD(model.parameters(), lr=lr)\n",
    "scheduler = torch.optim.lr_scheduler.StepLR(optimizer, 1.0, gamma=0.95)\n",
    "\n",
    "#model.cuda()\n",
    "\n",
    "import time\n",
    "def train():\n",
    "    model.train() # Turn on the train mode\n",
    "    total_loss = 0.\n",
    "    start_time = time.time()\n",
    "    ntokens = len(TEXT.vocab.stoi)\n",
    "    src_mask = model.generate_square_subsequent_mask(bptt).to(device)\n",
    "    for batch, i in enumerate(range(0, train_data.size(0) - 1, bptt)):\n",
    "        data, targets = get_batch(train_data, i)\n",
    "\n",
    "        #data, targets = data.cuda(), targets.cuda()\n",
    "        optimizer.zero_grad()\n",
    "        if data.size(0) != bptt:\n",
    "            src_mask = model.generate_square_subsequent_mask(data.size(0)).to(device)\n",
    "        output = model(data, src_mask)\n",
    "        loss = criterion(output.view(-1, ntokens), targets)\n",
    "        loss.backward()\n",
    "        torch.nn.utils.clip_grad_norm_(model.parameters(), 0.5)\n",
    "        optimizer.step()\n",
    "\n",
    "        total_loss += loss.item()\n",
    "        log_interval = 200\n",
    "        if batch % log_interval == 0 and batch > 0:\n",
    "            cur_loss = total_loss / log_interval\n",
    "            elapsed = time.time() - start_time\n",
    "            print('| epoch {:3d} | {:5d}/{:5d} batches | '\n",
    "                  'lr {:02.2f} | ms/batch {:5.2f} | '\n",
    "                  'loss {:5.2f} | ppl {:8.2f}'.format(\n",
    "                    epoch, batch, len(train_data) // bptt, scheduler.get_lr()[0],\n",
    "                    elapsed * 1000 / log_interval,\n",
    "                    cur_loss, math.exp(cur_loss)))\n",
    "            total_loss = 0\n",
    "            start_time = time.time()\n",
    "\n",
    "def evaluate(eval_model, data_source):\n",
    "    eval_model.eval() # Turn on the evaluation mode\n",
    "    total_loss = 0.\n",
    "    ntokens = len(TEXT.vocab.stoi)\n",
    "    src_mask = model.generate_square_subsequent_mask(bptt).to(device)\n",
    "    with torch.no_grad():\n",
    "        for i in range(0, data_source.size(0) - 1, bptt):\n",
    "            data, targets = get_batch(data_source, i)\n",
    "            if data.size(0) != bptt:\n",
    "                src_mask = model.generate_square_subsequent_mask(data.size(0)).to(device)\n",
    "            output = eval_model(data, src_mask)\n",
    "            output_flat = output.view(-1, ntokens)\n",
    "            total_loss += len(data) * criterion(output_flat, targets).item()\n",
    "    return total_loss / (len(data_source) - 1)\n"
   ]
  },
  {
   "cell_type": "code",
   "execution_count": 21,
   "metadata": {
    "colab": {
     "base_uri": "https://localhost:8080/"
    },
    "id": "tZDramCJfwec",
    "outputId": "64aa7a19-419e-4edb-edcc-a8610689067a"
   },
   "outputs": [
    {
     "name": "stderr",
     "output_type": "stream",
     "text": [
      "/Users/clara/Library/Python/3.8/lib/python/site-packages/torch/optim/lr_scheduler.py:369: UserWarning: To get the last learning rate computed by the scheduler, please use `get_last_lr()`.\n",
      "  warnings.warn(\"To get the last learning rate computed by the scheduler, \"\n"
     ]
    },
    {
     "name": "stdout",
     "output_type": "stream",
     "text": [
      "| epoch   1 |   200/ 1002 batches | lr 5.00 | ms/batch 50.29 | loss  3.35 | ppl    28.54\n",
      "| epoch   1 |   400/ 1002 batches | lr 5.00 | ms/batch 94.38 | loss  2.42 | ppl    11.26\n",
      "| epoch   1 |   600/ 1002 batches | lr 5.00 | ms/batch 75.50 | loss  2.30 | ppl     9.96\n",
      "| epoch   1 |   800/ 1002 batches | lr 5.00 | ms/batch 64.30 | loss  2.24 | ppl     9.41\n",
      "| epoch   1 |  1000/ 1002 batches | lr 5.00 | ms/batch 57.50 | loss  2.22 | ppl     9.18\n",
      "-----------------------------------------------------------------------------------------\n",
      "| end of epoch   1 | time: 70.10s | valid loss  2.07 | valid ppl     7.89\n",
      "-----------------------------------------------------------------------------------------\n",
      "| epoch   2 |   200/ 1002 batches | lr 4.51 | ms/batch 56.50 | loss  2.18 | ppl     8.89\n",
      "| epoch   2 |   400/ 1002 batches | lr 4.51 | ms/batch 53.15 | loss  2.13 | ppl     8.42\n",
      "| epoch   2 |   600/ 1002 batches | lr 4.51 | ms/batch 66.09 | loss  2.11 | ppl     8.23\n",
      "| epoch   2 |   800/ 1002 batches | lr 4.51 | ms/batch 74.01 | loss  2.10 | ppl     8.20\n",
      "| epoch   2 |  1000/ 1002 batches | lr 4.51 | ms/batch 58.87 | loss  2.10 | ppl     8.20\n",
      "-----------------------------------------------------------------------------------------\n",
      "| end of epoch   2 | time: 63.66s | valid loss  1.93 | valid ppl     6.89\n",
      "-----------------------------------------------------------------------------------------\n",
      "| epoch   3 |   200/ 1002 batches | lr 4.29 | ms/batch 51.17 | loss  2.09 | ppl     8.10\n",
      "| epoch   3 |   400/ 1002 batches | lr 4.29 | ms/batch 50.97 | loss  2.04 | ppl     7.71\n",
      "| epoch   3 |   600/ 1002 batches | lr 4.29 | ms/batch 50.20 | loss  2.04 | ppl     7.71\n",
      "| epoch   3 |   800/ 1002 batches | lr 4.29 | ms/batch 49.86 | loss  2.03 | ppl     7.60\n",
      "| epoch   3 |  1000/ 1002 batches | lr 4.29 | ms/batch 49.48 | loss  2.04 | ppl     7.66\n",
      "-----------------------------------------------------------------------------------------\n",
      "| end of epoch   3 | time: 52.09s | valid loss  1.86 | valid ppl     6.41\n",
      "-----------------------------------------------------------------------------------------\n",
      "| epoch   4 |   200/ 1002 batches | lr 4.07 | ms/batch 51.23 | loss  2.03 | ppl     7.63\n",
      "| epoch   4 |   400/ 1002 batches | lr 4.07 | ms/batch 50.04 | loss  1.98 | ppl     7.23\n",
      "| epoch   4 |   600/ 1002 batches | lr 4.07 | ms/batch 48.18 | loss  1.98 | ppl     7.26\n",
      "| epoch   4 |   800/ 1002 batches | lr 4.07 | ms/batch 48.48 | loss  1.99 | ppl     7.29\n",
      "| epoch   4 |  1000/ 1002 batches | lr 4.07 | ms/batch 49.41 | loss  2.01 | ppl     7.50\n",
      "-----------------------------------------------------------------------------------------\n",
      "| end of epoch   4 | time: 51.16s | valid loss  1.85 | valid ppl     6.35\n",
      "-----------------------------------------------------------------------------------------\n",
      "| epoch   5 |   200/ 1002 batches | lr 3.87 | ms/batch 49.03 | loss  2.00 | ppl     7.38\n",
      "| epoch   5 |   400/ 1002 batches | lr 3.87 | ms/batch 50.23 | loss  1.95 | ppl     7.06\n",
      "| epoch   5 |   600/ 1002 batches | lr 3.87 | ms/batch 47.73 | loss  1.96 | ppl     7.13\n",
      "| epoch   5 |   800/ 1002 batches | lr 3.87 | ms/batch 50.75 | loss  1.96 | ppl     7.08\n",
      "| epoch   5 |  1000/ 1002 batches | lr 3.87 | ms/batch 50.60 | loss  1.96 | ppl     7.13\n",
      "-----------------------------------------------------------------------------------------\n",
      "| end of epoch   5 | time: 51.49s | valid loss  1.78 | valid ppl     5.92\n",
      "-----------------------------------------------------------------------------------------\n",
      "| epoch   6 |   200/ 1002 batches | lr 3.68 | ms/batch 48.55 | loss  1.96 | ppl     7.12\n",
      "| epoch   6 |   400/ 1002 batches | lr 3.68 | ms/batch 48.23 | loss  1.92 | ppl     6.82\n",
      "| epoch   6 |   600/ 1002 batches | lr 3.68 | ms/batch 48.84 | loss  1.91 | ppl     6.78\n",
      "| epoch   6 |   800/ 1002 batches | lr 3.68 | ms/batch 50.39 | loss  1.91 | ppl     6.78\n",
      "| epoch   6 |  1000/ 1002 batches | lr 3.68 | ms/batch 48.12 | loss  1.93 | ppl     6.91\n",
      "-----------------------------------------------------------------------------------------\n",
      "| end of epoch   6 | time: 50.61s | valid loss  1.78 | valid ppl     5.90\n",
      "-----------------------------------------------------------------------------------------\n",
      "| epoch   7 |   200/ 1002 batches | lr 3.49 | ms/batch 48.71 | loss  1.93 | ppl     6.92\n",
      "| epoch   7 |   400/ 1002 batches | lr 3.49 | ms/batch 49.32 | loss  1.89 | ppl     6.65\n",
      "| epoch   7 |   600/ 1002 batches | lr 3.49 | ms/batch 48.75 | loss  1.89 | ppl     6.63\n",
      "| epoch   7 |   800/ 1002 batches | lr 3.49 | ms/batch 50.60 | loss  1.89 | ppl     6.62\n",
      "| epoch   7 |  1000/ 1002 batches | lr 3.49 | ms/batch 48.35 | loss  1.91 | ppl     6.76\n",
      "-----------------------------------------------------------------------------------------\n",
      "| end of epoch   7 | time: 50.90s | valid loss  1.74 | valid ppl     5.67\n",
      "-----------------------------------------------------------------------------------------\n",
      "| epoch   8 |   200/ 1002 batches | lr 3.32 | ms/batch 49.77 | loss  1.91 | ppl     6.72\n",
      "| epoch   8 |   400/ 1002 batches | lr 3.32 | ms/batch 47.33 | loss  1.87 | ppl     6.46\n",
      "| epoch   8 |   600/ 1002 batches | lr 3.32 | ms/batch 48.14 | loss  1.87 | ppl     6.49\n",
      "| epoch   8 |   800/ 1002 batches | lr 3.32 | ms/batch 50.03 | loss  1.86 | ppl     6.43\n",
      "| epoch   8 |  1000/ 1002 batches | lr 3.32 | ms/batch 49.27 | loss  1.88 | ppl     6.56\n",
      "-----------------------------------------------------------------------------------------\n",
      "| end of epoch   8 | time: 50.83s | valid loss  1.71 | valid ppl     5.53\n",
      "-----------------------------------------------------------------------------------------\n",
      "| epoch   9 |   200/ 1002 batches | lr 3.15 | ms/batch 47.56 | loss  1.88 | ppl     6.53\n",
      "| epoch   9 |   400/ 1002 batches | lr 3.15 | ms/batch 47.76 | loss  1.83 | ppl     6.26\n",
      "| epoch   9 |   600/ 1002 batches | lr 3.15 | ms/batch 47.42 | loss  1.84 | ppl     6.30\n",
      "| epoch   9 |   800/ 1002 batches | lr 3.15 | ms/batch 52.56 | loss  1.84 | ppl     6.32\n",
      "| epoch   9 |  1000/ 1002 batches | lr 3.15 | ms/batch 48.38 | loss  1.86 | ppl     6.44\n",
      "-----------------------------------------------------------------------------------------\n",
      "| end of epoch   9 | time: 50.52s | valid loss  1.68 | valid ppl     5.38\n",
      "-----------------------------------------------------------------------------------------\n",
      "| epoch  10 |   200/ 1002 batches | lr 2.99 | ms/batch 48.51 | loss  1.87 | ppl     6.46\n",
      "| epoch  10 |   400/ 1002 batches | lr 2.99 | ms/batch 48.22 | loss  1.82 | ppl     6.20\n",
      "| epoch  10 |   600/ 1002 batches | lr 2.99 | ms/batch 49.20 | loss  1.82 | ppl     6.15\n",
      "| epoch  10 |   800/ 1002 batches | lr 2.99 | ms/batch 47.57 | loss  1.81 | ppl     6.13\n",
      "| epoch  10 |  1000/ 1002 batches | lr 2.99 | ms/batch 46.24 | loss  1.83 | ppl     6.23\n",
      "-----------------------------------------------------------------------------------------\n",
      "| end of epoch  10 | time: 49.76s | valid loss  1.67 | valid ppl     5.32\n",
      "-----------------------------------------------------------------------------------------\n"
     ]
    }
   ],
   "source": [
    "best_val_loss = float(\"inf\")\n",
    "epochs = 10 # The number of epochs\n",
    "best_model = None\n",
    "\n",
    "for epoch in range(1, epochs + 1):\n",
    "    epoch_start_time = time.time()\n",
    "    train()\n",
    "    val_loss = evaluate(model, val_data)\n",
    "    print('-' * 89)\n",
    "    print('| end of epoch {:3d} | time: {:5.2f}s | valid loss {:5.2f} | '\n",
    "          'valid ppl {:8.2f}'.format(epoch, (time.time() - epoch_start_time),\n",
    "                                     val_loss, math.exp(val_loss)))\n",
    "    print('-' * 89)\n",
    "\n",
    "    if val_loss < best_val_loss:\n",
    "        best_val_loss = val_loss\n",
    "        best_model = model\n",
    "\n",
    "    scheduler.step()"
   ]
  },
  {
   "cell_type": "code",
   "execution_count": 50,
   "metadata": {
    "colab": {
     "base_uri": "https://localhost:8080/"
    },
    "id": "vDPz0G4MfyL6",
    "outputId": "bc4b2650-4731-4689-8e17-053afb0522a0"
   },
   "outputs": [
    {
     "ename": "RuntimeError",
     "evalue": "shape '[-1, 29]' is invalid for input of size 8750",
     "output_type": "error",
     "traceback": [
      "\u001b[0;31m---------------------------------------------------------------------------\u001b[0m",
      "\u001b[0;31mRuntimeError\u001b[0m                              Traceback (most recent call last)",
      "\u001b[0;32m<ipython-input-50-15f86c5cc7e8>\u001b[0m in \u001b[0;36m<module>\u001b[0;34m\u001b[0m\n\u001b[1;32m      1\u001b[0m \u001b[0;32mimport\u001b[0m \u001b[0mtorch\u001b[0m\u001b[0;34m.\u001b[0m\u001b[0mdistributions\u001b[0m \u001b[0;32mas\u001b[0m \u001b[0mdist\u001b[0m\u001b[0;34m\u001b[0m\u001b[0;34m\u001b[0m\u001b[0m\n\u001b[0;32m----> 2\u001b[0;31m \u001b[0mtest_loss\u001b[0m \u001b[0;34m=\u001b[0m \u001b[0mevaluate\u001b[0m\u001b[0;34m(\u001b[0m\u001b[0mbest_model\u001b[0m\u001b[0;34m,\u001b[0m \u001b[0mtest_data\u001b[0m\u001b[0;34m)\u001b[0m\u001b[0;34m\u001b[0m\u001b[0;34m\u001b[0m\u001b[0m\n\u001b[0m\u001b[1;32m      3\u001b[0m \u001b[0mprint\u001b[0m\u001b[0;34m(\u001b[0m\u001b[0;34m'='\u001b[0m \u001b[0;34m*\u001b[0m \u001b[0;36m89\u001b[0m\u001b[0;34m)\u001b[0m\u001b[0;34m\u001b[0m\u001b[0;34m\u001b[0m\u001b[0m\n\u001b[1;32m      4\u001b[0m print('| End of training | test loss {:5.2f} | test ppl {:8.2f}'.format(\n\u001b[1;32m      5\u001b[0m     test_loss, math.exp(test_loss)))\n",
      "\u001b[0;32m<ipython-input-20-d669e2078269>\u001b[0m in \u001b[0;36mevaluate\u001b[0;34m(eval_model, data_source)\u001b[0m\n\u001b[1;32m     51\u001b[0m                 \u001b[0msrc_mask\u001b[0m \u001b[0;34m=\u001b[0m \u001b[0mmodel\u001b[0m\u001b[0;34m.\u001b[0m\u001b[0mgenerate_square_subsequent_mask\u001b[0m\u001b[0;34m(\u001b[0m\u001b[0mdata\u001b[0m\u001b[0;34m.\u001b[0m\u001b[0msize\u001b[0m\u001b[0;34m(\u001b[0m\u001b[0;36m0\u001b[0m\u001b[0;34m)\u001b[0m\u001b[0;34m)\u001b[0m\u001b[0;34m.\u001b[0m\u001b[0mto\u001b[0m\u001b[0;34m(\u001b[0m\u001b[0mdevice\u001b[0m\u001b[0;34m)\u001b[0m\u001b[0;34m\u001b[0m\u001b[0;34m\u001b[0m\u001b[0m\n\u001b[1;32m     52\u001b[0m             \u001b[0moutput\u001b[0m \u001b[0;34m=\u001b[0m \u001b[0meval_model\u001b[0m\u001b[0;34m(\u001b[0m\u001b[0mdata\u001b[0m\u001b[0;34m,\u001b[0m \u001b[0msrc_mask\u001b[0m\u001b[0;34m)\u001b[0m\u001b[0;34m\u001b[0m\u001b[0;34m\u001b[0m\u001b[0m\n\u001b[0;32m---> 53\u001b[0;31m             \u001b[0moutput_flat\u001b[0m \u001b[0;34m=\u001b[0m \u001b[0moutput\u001b[0m\u001b[0;34m.\u001b[0m\u001b[0mview\u001b[0m\u001b[0;34m(\u001b[0m\u001b[0;34m-\u001b[0m\u001b[0;36m1\u001b[0m\u001b[0;34m,\u001b[0m \u001b[0mntokens\u001b[0m\u001b[0;34m)\u001b[0m\u001b[0;34m\u001b[0m\u001b[0;34m\u001b[0m\u001b[0m\n\u001b[0m\u001b[1;32m     54\u001b[0m             \u001b[0mtotal_loss\u001b[0m \u001b[0;34m+=\u001b[0m \u001b[0mlen\u001b[0m\u001b[0;34m(\u001b[0m\u001b[0mdata\u001b[0m\u001b[0;34m)\u001b[0m \u001b[0;34m*\u001b[0m \u001b[0mcriterion\u001b[0m\u001b[0;34m(\u001b[0m\u001b[0moutput_flat\u001b[0m\u001b[0;34m,\u001b[0m \u001b[0mtargets\u001b[0m\u001b[0;34m)\u001b[0m\u001b[0;34m.\u001b[0m\u001b[0mitem\u001b[0m\u001b[0;34m(\u001b[0m\u001b[0;34m)\u001b[0m\u001b[0;34m\u001b[0m\u001b[0;34m\u001b[0m\u001b[0m\n\u001b[1;32m     55\u001b[0m     \u001b[0;32mreturn\u001b[0m \u001b[0mtotal_loss\u001b[0m \u001b[0;34m/\u001b[0m \u001b[0;34m(\u001b[0m\u001b[0mlen\u001b[0m\u001b[0;34m(\u001b[0m\u001b[0mdata_source\u001b[0m\u001b[0;34m)\u001b[0m \u001b[0;34m-\u001b[0m \u001b[0;36m1\u001b[0m\u001b[0;34m)\u001b[0m\u001b[0;34m\u001b[0m\u001b[0;34m\u001b[0m\u001b[0m\n",
      "\u001b[0;31mRuntimeError\u001b[0m: shape '[-1, 29]' is invalid for input of size 8750"
     ]
    }
   ],
   "source": [
    "test_loss = evaluate(best_model, test_data)\n",
    "print('=' * 89)\n",
    "print('| End of training | test loss {:5.2f} | test ppl {:8.2f}'.format(\n",
    "    test_loss, math.exp(test_loss)))\n",
    "print('=' * 89)"
   ]
  },
  {
   "cell_type": "code",
   "execution_count": 73,
   "metadata": {
    "colab": {
     "base_uri": "https://localhost:8080/",
     "height": 158
    },
    "id": "snqnWKVlQNI7",
    "outputId": "c6e7b8a7-ba04-4d77-b16c-85ad1cc9b72e"
   },
   "outputs": [
    {
     "data": {
      "text/plain": [
       "tensor([[8]])"
      ]
     },
     "execution_count": 73,
     "metadata": {},
     "output_type": "execute_result"
    }
   ],
   "source": [
    "import torch.distributions as dist\n",
    "\n",
    "dat = batchify(['<sos>'], 1)\n",
    "\n",
    "src_mask = model.generate_square_subsequent_mask(dat.size(0)).to(device)\n",
    "output = model(dat, src_mask)\n",
    "sample_categorical(output,1)"
   ]
  },
  {
   "cell_type": "code",
   "execution_count": 99,
   "metadata": {
    "colab": {
     "base_uri": "https://localhost:8080/",
     "height": 346
    },
    "id": "N3rHcGmkG3_m",
    "outputId": "c9a7c77c-31f2-4009-ba1f-1fe0a3a286d3"
   },
   "outputs": [
    {
     "name": "stdout",
     "output_type": "stream",
     "text": [
      "tensor(0)\n"
     ]
    },
    {
     "data": {
      "text/plain": [
       "['<sos>']"
      ]
     },
     "execution_count": 99,
     "metadata": {},
     "output_type": "execute_result"
    }
   ],
   "source": [
    "def sample_categorical(lnprobs, temperature=1.0):\n",
    "    \"\"\"\n",
    "    Sample an element from a categorical distribution\n",
    "    :param lnprobs: Outcome log-probabilities\n",
    "    :param temperature: Sampling temperature. 1.0 follows the given distribution,\n",
    "        0.0 returns the maximum probability element.\n",
    "    :return: The index of the sampled element.\n",
    "    \"\"\"\n",
    "\n",
    "    if temperature == 0.0:\n",
    "        return lnprobs.argmax()\n",
    "    p = F.softmax(lnprobs / temperature, dim=0)\n",
    "    return dist.Categorical(p).sample()\n",
    "\n",
    "def sample_sentence(model, query, max_len = 140, temperature=1):\n",
    "    device = torch.device(\"cuda\" if torch.cuda.is_available() else \"cpu\")\n",
    "\n",
    "    while len(query) < max_len:\n",
    "        query_tensor = batchify(query, len(query))\n",
    "        src_mask = model.generate_square_subsequent_mask(len(query_tensor)).to(device)\n",
    "        output = model(query_tensor, src_mask)#.view(-1, ntokens)\n",
    "        \n",
    "        #output, _     = model(query_.unsqueeze(0).to(device))\n",
    "        next_char_idx = sample_categorical(output[0, :, len(query)-1], temperature) #0.5\n",
    "        #print(output[0, :, len(query_tensor) - 1])\n",
    "        #print(output)\n",
    "        print(next_char_idx)\n",
    "        if next_char_idx <= 1:\n",
    "            # query += \"*\"\n",
    "            break\n",
    "        \n",
    "        query += [str(chr(int(next_char_idx[0][0])))]\n",
    "    \n",
    "    return query\n",
    "\n",
    "\n",
    "ntokens = len(TEXT.vocab.stoi)\n",
    "\n",
    "\n",
    "dat = batchify(['<sos>'], 1)\n",
    "sample_sentence(model, ['<sos>'], max_len = 140, temperature=1)\n"
   ]
  },
  {
   "cell_type": "code",
   "execution_count": 67,
   "metadata": {
    "id": "0B1_dc1_HaQz"
   },
   "outputs": [
    {
     "data": {
      "text/plain": [
       "defaultdict(<bound method Vocab._default_unk_index of <torchtext.vocab.Vocab object at 0x13498ef40>>,\n",
       "            {'<unk>': 0,\n",
       "             '<pad>': 1,\n",
       "             '<sos>': 2,\n",
       "             '<eos>': 3,\n",
       "             'S': 4,\n",
       "             'T': 5,\n",
       "             'G': 6,\n",
       "             'V': 7,\n",
       "             'L': 8,\n",
       "             'A': 9,\n",
       "             'P': 10,\n",
       "             'K': 11,\n",
       "             'Y': 12,\n",
       "             'Q': 13,\n",
       "             'D': 14,\n",
       "             'N': 15,\n",
       "             'E': 16,\n",
       "             'F': 17,\n",
       "             'R': 18,\n",
       "             'W': 19,\n",
       "             'I': 20,\n",
       "             'C': 21,\n",
       "             'H': 22,\n",
       "             'M': 23,\n",
       "             'X': 24,\n",
       "             '<': 0,\n",
       "             's': 0,\n",
       "             'o': 0,\n",
       "             '>': 0,\n",
       "             tensor([0]): 0,\n",
       "             tensor([0]): 0,\n",
       "             tensor([0]): 0,\n",
       "             tensor([0]): 0,\n",
       "             tensor([0]): 0,\n",
       "             tensor([0]): 0,\n",
       "             tensor([0]): 0,\n",
       "             tensor([0]): 0,\n",
       "             tensor([0]): 0,\n",
       "             tensor([0]): 0,\n",
       "             tensor([0]): 0,\n",
       "             tensor([0]): 0,\n",
       "             tensor([0]): 0,\n",
       "             tensor([0]): 0,\n",
       "             tensor([0]): 0,\n",
       "             tensor([0]): 0,\n",
       "             tensor([0]): 0,\n",
       "             tensor([0]): 0,\n",
       "             tensor([0]): 0,\n",
       "             tensor([0]): 0,\n",
       "             ' ': 0,\n",
       "             '\\x04': 0,\n",
       "             '\\x03': 0,\n",
       "             '\\x02': 0,\n",
       "             '\\x05': 0})"
      ]
     },
     "execution_count": 67,
     "metadata": {},
     "output_type": "execute_result"
    }
   ],
   "source": [
    "TEXT.vocab.stoi"
   ]
  },
  {
   "cell_type": "code",
   "execution_count": null,
   "metadata": {
    "id": "VvvgjJGWHhB5"
   },
   "outputs": [],
   "source": []
  }
 ],
 "metadata": {
  "accelerator": "GPU",
  "colab": {
   "collapsed_sections": [],
   "name": "project2.ipynb",
   "provenance": []
  },
  "kernelspec": {
   "display_name": "Python 3",
   "language": "python",
   "name": "python3"
  },
  "language_info": {
   "codemirror_mode": {
    "name": "ipython",
    "version": 3
   },
   "file_extension": ".py",
   "mimetype": "text/x-python",
   "name": "python",
   "nbconvert_exporter": "python",
   "pygments_lexer": "ipython3",
   "version": "3.8.5"
  }
 },
 "nbformat": 4,
 "nbformat_minor": 1
}
